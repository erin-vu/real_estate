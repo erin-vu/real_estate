{
 "cells": [
  {
   "cell_type": "markdown",
   "metadata": {},
   "source": [
    "# Real Estate Analysis"
   ]
  },
  {
   "cell_type": "markdown",
   "metadata": {},
   "source": [
    "## Overview\n",
    "\n",
    "This project is an analysis of real estate within California. The goal of the project is to be able to predict sale price based on the features of the house. "
   ]
  },
  {
   "cell_type": "markdown",
   "metadata": {},
   "source": [
    "## Business Problem\n",
    "\n",
    "The business problem for this project is to accurately price houses for sale according to the features of the house. "
   ]
  },
  {
   "cell_type": "markdown",
   "metadata": {},
   "source": [
    "## Data Understanding\n",
    "\n",
    "The California Real Estate dataset from Kaggle has around 35,000 records of houses within the state. There are a total of 38 columns and include data such as location, size, and amenities. "
   ]
  },
  {
   "cell_type": "code",
   "execution_count": 64,
   "metadata": {},
   "outputs": [],
   "source": [
    "#Importing the necessary libraries\n",
    "import pandas as pd\n",
    "import numpy as np\n",
    "import matplotlib.pyplot as plt\n",
    "%matplotlib inline\n",
    "import seaborn as sns\n"
   ]
  },
  {
   "cell_type": "code",
   "execution_count": 65,
   "metadata": {},
   "outputs": [
    {
     "data": {
      "text/html": [
       "<div>\n",
       "<style scoped>\n",
       "    .dataframe tbody tr th:only-of-type {\n",
       "        vertical-align: middle;\n",
       "    }\n",
       "\n",
       "    .dataframe tbody tr th {\n",
       "        vertical-align: top;\n",
       "    }\n",
       "\n",
       "    .dataframe thead th {\n",
       "        text-align: right;\n",
       "    }\n",
       "</style>\n",
       "<table border=\"1\" class=\"dataframe\">\n",
       "  <thead>\n",
       "    <tr style=\"text-align: right;\">\n",
       "      <th></th>\n",
       "      <th>id</th>\n",
       "      <th>stateId</th>\n",
       "      <th>countyId</th>\n",
       "      <th>cityId</th>\n",
       "      <th>country</th>\n",
       "      <th>datePostedString</th>\n",
       "      <th>is_bankOwned</th>\n",
       "      <th>is_forAuction</th>\n",
       "      <th>event</th>\n",
       "      <th>time</th>\n",
       "      <th>...</th>\n",
       "      <th>parking</th>\n",
       "      <th>garageSpaces</th>\n",
       "      <th>hasGarage</th>\n",
       "      <th>levels</th>\n",
       "      <th>pool</th>\n",
       "      <th>spa</th>\n",
       "      <th>isNewConstruction</th>\n",
       "      <th>hasPetsAllowed</th>\n",
       "      <th>homeType</th>\n",
       "      <th>county</th>\n",
       "    </tr>\n",
       "  </thead>\n",
       "  <tbody>\n",
       "    <tr>\n",
       "      <th>0</th>\n",
       "      <td>95717-2087851113</td>\n",
       "      <td>9</td>\n",
       "      <td>77</td>\n",
       "      <td>24895</td>\n",
       "      <td>USA</td>\n",
       "      <td>2021-01-13</td>\n",
       "      <td>0</td>\n",
       "      <td>0</td>\n",
       "      <td>Listed for sale</td>\n",
       "      <td>1.610496e+12</td>\n",
       "      <td>...</td>\n",
       "      <td>0</td>\n",
       "      <td>0.0</td>\n",
       "      <td>0</td>\n",
       "      <td>0</td>\n",
       "      <td>0</td>\n",
       "      <td>0</td>\n",
       "      <td>0</td>\n",
       "      <td>0</td>\n",
       "      <td>LOT</td>\n",
       "      <td>Placer County</td>\n",
       "    </tr>\n",
       "    <tr>\n",
       "      <th>1</th>\n",
       "      <td>94564-18496265</td>\n",
       "      <td>9</td>\n",
       "      <td>189</td>\n",
       "      <td>36958</td>\n",
       "      <td>USA</td>\n",
       "      <td>2021-07-12</td>\n",
       "      <td>0</td>\n",
       "      <td>0</td>\n",
       "      <td>Listed for sale</td>\n",
       "      <td>1.626048e+12</td>\n",
       "      <td>...</td>\n",
       "      <td>1</td>\n",
       "      <td>2.0</td>\n",
       "      <td>1</td>\n",
       "      <td>One Story</td>\n",
       "      <td>0</td>\n",
       "      <td>0</td>\n",
       "      <td>0</td>\n",
       "      <td>0</td>\n",
       "      <td>SINGLE_FAMILY</td>\n",
       "      <td>Contra Costa County</td>\n",
       "    </tr>\n",
       "    <tr>\n",
       "      <th>2</th>\n",
       "      <td>94564-18484475</td>\n",
       "      <td>9</td>\n",
       "      <td>190</td>\n",
       "      <td>36958</td>\n",
       "      <td>USA</td>\n",
       "      <td>2021-07-08</td>\n",
       "      <td>0</td>\n",
       "      <td>0</td>\n",
       "      <td>Listed for sale</td>\n",
       "      <td>1.625702e+12</td>\n",
       "      <td>...</td>\n",
       "      <td>1</td>\n",
       "      <td>2.0</td>\n",
       "      <td>1</td>\n",
       "      <td>One Story</td>\n",
       "      <td>0</td>\n",
       "      <td>0</td>\n",
       "      <td>0</td>\n",
       "      <td>0</td>\n",
       "      <td>SINGLE_FAMILY</td>\n",
       "      <td>Contra Costa County</td>\n",
       "    </tr>\n",
       "    <tr>\n",
       "      <th>3</th>\n",
       "      <td>94564-18494835</td>\n",
       "      <td>9</td>\n",
       "      <td>191</td>\n",
       "      <td>36958</td>\n",
       "      <td>USA</td>\n",
       "      <td>2021-07-07</td>\n",
       "      <td>0</td>\n",
       "      <td>0</td>\n",
       "      <td>Listed for sale</td>\n",
       "      <td>1.625616e+12</td>\n",
       "      <td>...</td>\n",
       "      <td>1</td>\n",
       "      <td>1.0</td>\n",
       "      <td>1</td>\n",
       "      <td>Two Story</td>\n",
       "      <td>0</td>\n",
       "      <td>1</td>\n",
       "      <td>0</td>\n",
       "      <td>0</td>\n",
       "      <td>SINGLE_FAMILY</td>\n",
       "      <td>Contra Costa County</td>\n",
       "    </tr>\n",
       "    <tr>\n",
       "      <th>4</th>\n",
       "      <td>94564-2069722747</td>\n",
       "      <td>9</td>\n",
       "      <td>192</td>\n",
       "      <td>36958</td>\n",
       "      <td>USA</td>\n",
       "      <td>2021-07-07</td>\n",
       "      <td>0</td>\n",
       "      <td>0</td>\n",
       "      <td>Listed for sale</td>\n",
       "      <td>1.625616e+12</td>\n",
       "      <td>...</td>\n",
       "      <td>0</td>\n",
       "      <td>0.0</td>\n",
       "      <td>0</td>\n",
       "      <td>0</td>\n",
       "      <td>0</td>\n",
       "      <td>0</td>\n",
       "      <td>0</td>\n",
       "      <td>0</td>\n",
       "      <td>LOT</td>\n",
       "      <td>Contra Costa County</td>\n",
       "    </tr>\n",
       "  </tbody>\n",
       "</table>\n",
       "<p>5 rows × 38 columns</p>\n",
       "</div>"
      ],
      "text/plain": [
       "                 id  stateId  countyId  cityId country datePostedString  \\\n",
       "0  95717-2087851113        9        77   24895     USA       2021-01-13   \n",
       "1    94564-18496265        9       189   36958     USA       2021-07-12   \n",
       "2    94564-18484475        9       190   36958     USA       2021-07-08   \n",
       "3    94564-18494835        9       191   36958     USA       2021-07-07   \n",
       "4  94564-2069722747        9       192   36958     USA       2021-07-07   \n",
       "\n",
       "   is_bankOwned  is_forAuction            event          time  ...  parking  \\\n",
       "0             0              0  Listed for sale  1.610496e+12  ...        0   \n",
       "1             0              0  Listed for sale  1.626048e+12  ...        1   \n",
       "2             0              0  Listed for sale  1.625702e+12  ...        1   \n",
       "3             0              0  Listed for sale  1.625616e+12  ...        1   \n",
       "4             0              0  Listed for sale  1.625616e+12  ...        0   \n",
       "\n",
       "   garageSpaces hasGarage     levels  pool spa  isNewConstruction  \\\n",
       "0           0.0         0          0     0   0                  0   \n",
       "1           2.0         1  One Story     0   0                  0   \n",
       "2           2.0         1  One Story     0   0                  0   \n",
       "3           1.0         1  Two Story     0   1                  0   \n",
       "4           0.0         0          0     0   0                  0   \n",
       "\n",
       "   hasPetsAllowed       homeType               county  \n",
       "0               0            LOT        Placer County  \n",
       "1               0  SINGLE_FAMILY  Contra Costa County  \n",
       "2               0  SINGLE_FAMILY  Contra Costa County  \n",
       "3               0  SINGLE_FAMILY  Contra Costa County  \n",
       "4               0            LOT  Contra Costa County  \n",
       "\n",
       "[5 rows x 38 columns]"
      ]
     },
     "execution_count": 65,
     "metadata": {},
     "output_type": "execute_result"
    }
   ],
   "source": [
    "df = pd.read_csv('data/RealEstate_California.csv', index_col=0) #loading the data\n",
    "df.head() #Viewing the first five rows of data"
   ]
  },
  {
   "cell_type": "code",
   "execution_count": 66,
   "metadata": {},
   "outputs": [],
   "source": [
    "df.drop(['id', 'stateId', 'country', 'cityId', 'countyId', 'time'], axis=1, inplace=True) \n",
    "#Dropping variables without predictor value or redundant"
   ]
  },
  {
   "cell_type": "code",
   "execution_count": 67,
   "metadata": {},
   "outputs": [
    {
     "name": "stdout",
     "output_type": "stream",
     "text": [
      "<class 'pandas.core.frame.DataFrame'>\n",
      "Int64Index: 35389 entries, 0 to 35388\n",
      "Data columns (total 32 columns):\n",
      " #   Column              Non-Null Count  Dtype  \n",
      "---  ------              --------------  -----  \n",
      " 0   datePostedString    35386 non-null  object \n",
      " 1   is_bankOwned        35389 non-null  int64  \n",
      " 2   is_forAuction       35389 non-null  int64  \n",
      " 3   event               35389 non-null  object \n",
      " 4   price               35389 non-null  float64\n",
      " 5   pricePerSquareFoot  35389 non-null  float64\n",
      " 6   city                35389 non-null  object \n",
      " 7   state               35389 non-null  object \n",
      " 8   yearBuilt           35389 non-null  int64  \n",
      " 9   streetAddress       35389 non-null  object \n",
      " 10  zipcode             35364 non-null  float64\n",
      " 11  longitude           35389 non-null  float64\n",
      " 12  latitude            35389 non-null  float64\n",
      " 13  hasBadGeocode       35389 non-null  int64  \n",
      " 14  description         35110 non-null  object \n",
      " 15  currency            35389 non-null  object \n",
      " 16  livingArea          35389 non-null  float64\n",
      " 17  livingAreaValue     35389 non-null  float64\n",
      " 18  lotAreaUnits        35389 non-null  object \n",
      " 19  bathrooms           35389 non-null  float64\n",
      " 20  bedrooms            35389 non-null  float64\n",
      " 21  buildingArea        35389 non-null  float64\n",
      " 22  parking             35389 non-null  int64  \n",
      " 23  garageSpaces        35389 non-null  float64\n",
      " 24  hasGarage           35389 non-null  int64  \n",
      " 25  levels              35389 non-null  object \n",
      " 26  pool                35389 non-null  int64  \n",
      " 27  spa                 35389 non-null  int64  \n",
      " 28  isNewConstruction   35389 non-null  int64  \n",
      " 29  hasPetsAllowed      35389 non-null  int64  \n",
      " 30  homeType            35389 non-null  object \n",
      " 31  county              35389 non-null  object \n",
      "dtypes: float64(11), int64(10), object(11)\n",
      "memory usage: 8.9+ MB\n"
     ]
    }
   ],
   "source": [
    "df.info() #looking at the overall columns/features"
   ]
  },
  {
   "cell_type": "code",
   "execution_count": 68,
   "metadata": {},
   "outputs": [
    {
     "data": {
      "text/plain": [
       "datePostedString        3\n",
       "is_bankOwned            0\n",
       "is_forAuction           0\n",
       "event                   0\n",
       "price                   0\n",
       "pricePerSquareFoot      0\n",
       "city                    0\n",
       "state                   0\n",
       "yearBuilt               0\n",
       "streetAddress           0\n",
       "zipcode                25\n",
       "longitude               0\n",
       "latitude                0\n",
       "hasBadGeocode           0\n",
       "description           279\n",
       "currency                0\n",
       "livingArea              0\n",
       "livingAreaValue         0\n",
       "lotAreaUnits            0\n",
       "bathrooms               0\n",
       "bedrooms                0\n",
       "buildingArea            0\n",
       "parking                 0\n",
       "garageSpaces            0\n",
       "hasGarage               0\n",
       "levels                  0\n",
       "pool                    0\n",
       "spa                     0\n",
       "isNewConstruction       0\n",
       "hasPetsAllowed          0\n",
       "homeType                0\n",
       "county                  0\n",
       "dtype: int64"
      ]
     },
     "execution_count": 68,
     "metadata": {},
     "output_type": "execute_result"
    }
   ],
   "source": [
    "df.isna().sum() #checking for null values"
   ]
  },
  {
   "cell_type": "code",
   "execution_count": 69,
   "metadata": {},
   "outputs": [],
   "source": [
    "df.dropna(inplace=True) #dropping null values since there aren't too many when looking at the overall dataset"
   ]
  },
  {
   "cell_type": "code",
   "execution_count": 70,
   "metadata": {},
   "outputs": [
    {
     "data": {
      "text/plain": [
       "datePostedString      0\n",
       "is_bankOwned          0\n",
       "is_forAuction         0\n",
       "event                 0\n",
       "price                 0\n",
       "pricePerSquareFoot    0\n",
       "city                  0\n",
       "state                 0\n",
       "yearBuilt             0\n",
       "streetAddress         0\n",
       "zipcode               0\n",
       "longitude             0\n",
       "latitude              0\n",
       "hasBadGeocode         0\n",
       "description           0\n",
       "currency              0\n",
       "livingArea            0\n",
       "livingAreaValue       0\n",
       "lotAreaUnits          0\n",
       "bathrooms             0\n",
       "bedrooms              0\n",
       "buildingArea          0\n",
       "parking               0\n",
       "garageSpaces          0\n",
       "hasGarage             0\n",
       "levels                0\n",
       "pool                  0\n",
       "spa                   0\n",
       "isNewConstruction     0\n",
       "hasPetsAllowed        0\n",
       "homeType              0\n",
       "county                0\n",
       "dtype: int64"
      ]
     },
     "execution_count": 70,
     "metadata": {},
     "output_type": "execute_result"
    }
   ],
   "source": [
    "df.isna().sum() #verifying there's no more nulls"
   ]
  },
  {
   "cell_type": "code",
   "execution_count": 71,
   "metadata": {},
   "outputs": [
    {
     "name": "stdout",
     "output_type": "stream",
     "text": [
      "There are 3983 duplicated values\n"
     ]
    }
   ],
   "source": [
    "print(f'There are {df.duplicated().sum()} duplicated values') #Checking for any duplicated values"
   ]
  },
  {
   "cell_type": "code",
   "execution_count": 72,
   "metadata": {},
   "outputs": [
    {
     "name": "stdout",
     "output_type": "stream",
     "text": [
      "There are 0 duplicated values\n"
     ]
    }
   ],
   "source": [
    "df.drop_duplicates(keep='first', inplace=True)\n",
    "print(f'There are {df.duplicated().sum()} duplicated values') #Verifying duplicated values have been dropped"
   ]
  },
  {
   "cell_type": "code",
   "execution_count": 73,
   "metadata": {},
   "outputs": [],
   "source": [
    "df['year'] = pd.to_datetime(df['datePostedString']) #Converting date posted to year to observe yearly trends\n",
    "df['year'] = df['year'].dt.year\n",
    "df.drop(['datePostedString'], inplace=True, axis=1) #Dropping original date posted column"
   ]
  },
  {
   "cell_type": "markdown",
   "metadata": {},
   "source": [
    "### Feature Analysis"
   ]
  },
  {
   "cell_type": "code",
   "execution_count": 74,
   "metadata": {},
   "outputs": [],
   "source": [
    "def feature_corr(feature):\n",
    "    feature_corr = df['price'].corr(df[feature])\n",
    "    return print(f'{feature.title()} correlation with popularity is {feature_corr}')\n",
    "\n",
    "def feature_analysis(feature):\n",
    "    '''Creates distplot and graph of feature and mean of price along with correlation and value counts'''\n",
    "    \n",
    "    feature_corr(feature)\n",
    "    \n",
    "    print(df[feature].value_counts(normalize=True))\n",
    "    \n",
    "    fig, ax = plt.subplots(figsize=(15,8))\n",
    "    sns.distplot(df[feature], ax=ax)\n",
    "    ax.set_title(f'{feature.title()} Distribution', fontsize=16)\n",
    "    ax.set_xlabel(f'{feature.title()}', fontsize=14)\n",
    "    ax.set_ylabel('Density', fontsize=14)\n",
    "    \n",
    "    print(df[feature].describe())\n",
    "    \n",
    "    feature_price_mean = df.groupby(feature)['price'].mean()\n",
    "    \n",
    "    fig, ax = plt.subplots(figsize=(15,8))\n",
    "    ax.scatter(feature_price_mean.index, feature_price_mean.values, alpha=.3)\n",
    "    ax.set_title(f'{feature.title()} vs Mean Price', fontsize=16)\n",
    "    ax.set_xlabel(f'{feature.title()}', fontsize=14)\n",
    "    ax.set_ylabel('Mean Price', fontsize=14)\n",
    "    return plt.show();"
   ]
  },
  {
   "cell_type": "markdown",
   "metadata": {},
   "source": [
    "## Single Family Home Analysis"
   ]
  },
  {
   "cell_type": "code",
   "execution_count": 75,
   "metadata": {},
   "outputs": [
    {
     "data": {
      "text/plain": [
       "SINGLE_FAMILY    19529\n",
       "LOT               5623\n",
       "CONDO             2860\n",
       "MULTI_FAMILY      2116\n",
       "TOWNHOUSE          970\n",
       "APARTMENT            1\n",
       "Name: homeType, dtype: int64"
      ]
     },
     "execution_count": 75,
     "metadata": {},
     "output_type": "execute_result"
    }
   ],
   "source": [
    "df['homeType'].value_counts()"
   ]
  },
  {
   "cell_type": "code",
   "execution_count": 76,
   "metadata": {},
   "outputs": [
    {
     "data": {
      "text/plain": [
       "SINGLE_FAMILY    19529\n",
       "Name: homeType, dtype: int64"
      ]
     },
     "execution_count": 76,
     "metadata": {},
     "output_type": "execute_result"
    }
   ],
   "source": [
    "df = df[df['homeType'] == 'SINGLE_FAMILY'] #Filtering out the data for single family homes only\n",
    "df['homeType'].value_counts()"
   ]
  },
  {
   "cell_type": "markdown",
   "metadata": {},
   "source": [
    "#### Bathrooms"
   ]
  },
  {
   "cell_type": "code",
   "execution_count": 77,
   "metadata": {},
   "outputs": [
    {
     "data": {
      "text/plain": [
       "2.0     7553\n",
       "3.0     5952\n",
       "1.0     2336\n",
       "4.0     1756\n",
       "5.0      836\n",
       "6.0      387\n",
       "0.0      271\n",
       "7.0      188\n",
       "8.0      121\n",
       "9.0       52\n",
       "10.0      27\n",
       "11.0      19\n",
       "12.0      14\n",
       "14.0       6\n",
       "13.0       5\n",
       "15.0       1\n",
       "25.0       1\n",
       "20.0       1\n",
       "58.0       1\n",
       "21.0       1\n",
       "22.0       1\n",
       "Name: bathrooms, dtype: int64"
      ]
     },
     "execution_count": 77,
     "metadata": {},
     "output_type": "execute_result"
    }
   ],
   "source": [
    "df['bathrooms'].value_counts()"
   ]
  },
  {
   "cell_type": "code",
   "execution_count": 78,
   "metadata": {},
   "outputs": [
    {
     "data": {
      "text/plain": [
       "bathrooms\n",
       "25.0    8.500000e+07\n",
       "21.0    7.800000e+07\n",
       "22.0    6.500000e+07\n",
       "20.0    4.800000e+07\n",
       "58.0    2.900000e+07\n",
       "13.0    2.870900e+07\n",
       "12.0    2.461636e+07\n",
       "14.0    2.083300e+07\n",
       "11.0    1.981579e+07\n",
       "10.0    1.428259e+07\n",
       "9.0     1.196734e+07\n",
       "8.0     8.651867e+06\n",
       "7.0     7.074280e+06\n",
       "6.0     4.433127e+06\n",
       "15.0    3.895000e+06\n",
       "5.0     3.074432e+06\n",
       "4.0     1.902947e+06\n",
       "0.0     1.357225e+06\n",
       "3.0     1.092933e+06\n",
       "2.0     7.511664e+05\n",
       "1.0     5.968525e+05\n",
       "Name: price, dtype: float64"
      ]
     },
     "execution_count": 78,
     "metadata": {},
     "output_type": "execute_result"
    }
   ],
   "source": [
    "avg_price_bath = df.groupby('bathrooms')['price'].mean().sort_values(ascending=False)\n",
    "avg_price_bath"
   ]
  },
  {
   "cell_type": "code",
   "execution_count": 79,
   "metadata": {},
   "outputs": [
    {
     "name": "stdout",
     "output_type": "stream",
     "text": [
      "Bathrooms correlation with popularity is 0.5572430611975555\n",
      "2.0     0.386758\n",
      "3.0     0.304778\n",
      "1.0     0.119617\n",
      "4.0     0.089918\n",
      "5.0     0.042808\n",
      "6.0     0.019817\n",
      "0.0     0.013877\n",
      "7.0     0.009627\n",
      "8.0     0.006196\n",
      "9.0     0.002663\n",
      "10.0    0.001383\n",
      "11.0    0.000973\n",
      "12.0    0.000717\n",
      "14.0    0.000307\n",
      "13.0    0.000256\n",
      "15.0    0.000051\n",
      "25.0    0.000051\n",
      "20.0    0.000051\n",
      "58.0    0.000051\n",
      "21.0    0.000051\n",
      "22.0    0.000051\n",
      "Name: bathrooms, dtype: float64\n"
     ]
    },
    {
     "name": "stderr",
     "output_type": "stream",
     "text": [
      "C:\\Users\\erinv\\anaconda3\\envs\\learn-env\\lib\\site-packages\\seaborn\\distributions.py:2551: FutureWarning: `distplot` is a deprecated function and will be removed in a future version. Please adapt your code to use either `displot` (a figure-level function with similar flexibility) or `histplot` (an axes-level function for histograms).\n",
      "  warnings.warn(msg, FutureWarning)\n"
     ]
    },
    {
     "name": "stdout",
     "output_type": "stream",
     "text": [
      "count    19529.000000\n",
      "mean         2.689999\n",
      "std          1.492046\n",
      "min          0.000000\n",
      "25%          2.000000\n",
      "50%          2.000000\n",
      "75%          3.000000\n",
      "max         58.000000\n",
      "Name: bathrooms, dtype: float64\n"
     ]
    },
    {
     "data": {
      "image/png": "[encoded data removed]",
      "text/plain": [
       "<Figure size 1080x576 with 1 Axes>"
      ]
     },
     "metadata": {
      "needs_background": "light"
     },
     "output_type": "display_data"
    },
    {
     "data": {
      "image/png": "[encoded data removed]",
      "text/plain": [
       "<Figure size 1080x576 with 1 Axes>"
      ]
     },
     "metadata": {
      "needs_background": "light"
     },
     "output_type": "display_data"
    }
   ],
   "source": [
    "feature_analysis('bathrooms')"
   ]
  },
  {
   "cell_type": "code",
   "execution_count": 86,
   "metadata": {},
   "outputs": [
    {
     "data": {
      "text/plain": [
       "2.0    7553\n",
       "3.0    5952\n",
       "1.0    2336\n",
       "4.0    1756\n",
       "5.0     836\n",
       "6.0     387\n",
       "Name: bathrooms, dtype: int64"
      ]
     },
     "execution_count": 86,
     "metadata": {},
     "output_type": "execute_result"
    }
   ],
   "source": [
    "df = df[(df['bathrooms'] < 7) & (df['bathrooms'] != 0)] #Filtering out homes without bathrooms and more than 7 for the standard home \n",
    "df['bathrooms'].value_counts()"
   ]
  },
  {
   "cell_type": "code",
   "execution_count": 87,
   "metadata": {},
   "outputs": [
    {
     "name": "stdout",
     "output_type": "stream",
     "text": [
      "Bathrooms correlation with popularity is 0.4648594836917061\n",
      "2.0    0.401328\n",
      "3.0    0.316259\n",
      "1.0    0.124123\n",
      "4.0    0.093305\n",
      "5.0    0.044421\n",
      "6.0    0.020563\n",
      "Name: bathrooms, dtype: float64\n",
      "count    18820.000000\n",
      "mean         2.594261\n",
      "std          1.090559\n",
      "min          1.000000\n",
      "25%          2.000000\n",
      "50%          2.000000\n",
      "75%          3.000000\n",
      "max          6.000000\n",
      "Name: bathrooms, dtype: float64\n"
     ]
    },
    {
     "name": "stderr",
     "output_type": "stream",
     "text": [
      "C:\\Users\\erinv\\anaconda3\\envs\\learn-env\\lib\\site-packages\\seaborn\\distributions.py:2551: FutureWarning: `distplot` is a deprecated function and will be removed in a future version. Please adapt your code to use either `displot` (a figure-level function with similar flexibility) or `histplot` (an axes-level function for histograms).\n",
      "  warnings.warn(msg, FutureWarning)\n"
     ]
    },
    {
     "data": {
      "image/png": "[encoded data removed]",
      "text/plain": [
       "<Figure size 1080x576 with 1 Axes>"
      ]
     },
     "metadata": {
      "needs_background": "light"
     },
     "output_type": "display_data"
    },
    {
     "data": {
      "image/png": "[encoded data removed]",
      "text/plain": [
       "<Figure size 1080x576 with 1 Axes>"
      ]
     },
     "metadata": {
      "needs_background": "light"
     },
     "output_type": "display_data"
    }
   ],
   "source": [
    "feature_analysis('bathrooms')"
   ]
  },
  {
   "cell_type": "markdown",
   "metadata": {},
   "source": [
    "#### Bedrooms"
   ]
  },
  {
   "cell_type": "code",
   "execution_count": 80,
   "metadata": {},
   "outputs": [
    {
     "data": {
      "text/plain": [
       "3.0     0.409238\n",
       "4.0     0.305853\n",
       "2.0     0.118900\n",
       "5.0     0.106611\n",
       "6.0     0.025705\n",
       "1.0     0.013211\n",
       "7.0     0.008859\n",
       "0.0     0.005069\n",
       "8.0     0.003636\n",
       "9.0     0.001383\n",
       "10.0    0.000461\n",
       "11.0    0.000410\n",
       "12.0    0.000205\n",
       "13.0    0.000154\n",
       "15.0    0.000154\n",
       "52.0    0.000051\n",
       "17.0    0.000051\n",
       "32.0    0.000051\n",
       "Name: bedrooms, dtype: float64"
      ]
     },
     "execution_count": 80,
     "metadata": {},
     "output_type": "execute_result"
    }
   ],
   "source": [
    "df['bedrooms'].value_counts(normalize=True)"
   ]
  },
  {
   "cell_type": "code",
   "execution_count": 81,
   "metadata": {},
   "outputs": [
    {
     "data": {
      "text/plain": [
       "bedrooms\n",
       "17.0    8.500000e+07\n",
       "52.0    2.900000e+07\n",
       "11.0    1.640488e+07\n",
       "12.0    1.456200e+07\n",
       "7.0     8.564143e+06\n",
       "8.0     7.876927e+06\n",
       "32.0    7.500000e+06\n",
       "10.0    6.025417e+06\n",
       "15.0    4.733333e+06\n",
       "9.0     4.514903e+06\n",
       "6.0     3.998902e+06\n",
       "13.0    3.395000e+06\n",
       "5.0     2.292842e+06\n",
       "0.0     2.226482e+06\n",
       "4.0     1.313531e+06\n",
       "3.0     8.789961e+05\n",
       "1.0     7.415752e+05\n",
       "2.0     7.043935e+05\n",
       "Name: price, dtype: float64"
      ]
     },
     "execution_count": 81,
     "metadata": {},
     "output_type": "execute_result"
    }
   ],
   "source": [
    "avg_price_bed = df.groupby('bedrooms')['price'].mean().sort_values(ascending=False)\n",
    "avg_price_bed"
   ]
  },
  {
   "cell_type": "code",
   "execution_count": 82,
   "metadata": {},
   "outputs": [
    {
     "name": "stdout",
     "output_type": "stream",
     "text": [
      "Bedrooms correlation with popularity is 0.32995943046197956\n",
      "3.0     0.409238\n",
      "4.0     0.305853\n",
      "2.0     0.118900\n",
      "5.0     0.106611\n",
      "6.0     0.025705\n",
      "1.0     0.013211\n",
      "7.0     0.008859\n",
      "0.0     0.005069\n",
      "8.0     0.003636\n",
      "9.0     0.001383\n",
      "10.0    0.000461\n",
      "11.0    0.000410\n",
      "12.0    0.000205\n",
      "13.0    0.000154\n",
      "15.0    0.000154\n",
      "52.0    0.000051\n",
      "17.0    0.000051\n",
      "32.0    0.000051\n",
      "Name: bedrooms, dtype: float64\n",
      "count    19529.000000\n",
      "mean         3.514005\n",
      "std          1.215815\n",
      "min          0.000000\n",
      "25%          3.000000\n",
      "50%          3.000000\n",
      "75%          4.000000\n",
      "max         52.000000\n",
      "Name: bedrooms, dtype: float64\n"
     ]
    },
    {
     "name": "stderr",
     "output_type": "stream",
     "text": [
      "C:\\Users\\erinv\\anaconda3\\envs\\learn-env\\lib\\site-packages\\seaborn\\distributions.py:2551: FutureWarning: `distplot` is a deprecated function and will be removed in a future version. Please adapt your code to use either `displot` (a figure-level function with similar flexibility) or `histplot` (an axes-level function for histograms).\n",
      "  warnings.warn(msg, FutureWarning)\n"
     ]
    },
    {
     "data": {
      "image/png": "[encoded data removed]",
      "text/plain": [
       "<Figure size 1080x576 with 1 Axes>"
      ]
     },
     "metadata": {
      "needs_background": "light"
     },
     "output_type": "display_data"
    },
    {
     "data": {
      "image/png": "[encoded data removed]",
      "text/plain": [
       "<Figure size 1080x576 with 1 Axes>"
      ]
     },
     "metadata": {
      "needs_background": "light"
     },
     "output_type": "display_data"
    }
   ],
   "source": [
    "feature_analysis('bedrooms')"
   ]
  },
  {
   "cell_type": "code",
   "execution_count": 52,
   "metadata": {},
   "outputs": [
    {
     "data": {
      "text/plain": [
       "2.0    7549\n",
       "3.0    5933\n",
       "1.0    2335\n",
       "4.0    1724\n",
       "5.0     788\n",
       "Name: bathrooms, dtype: int64"
      ]
     },
     "execution_count": 52,
     "metadata": {},
     "output_type": "execute_result"
    }
   ],
   "source": [
    "df = df[df['bedrooms'] < 7] #Filtering out houses with more than 6 bedrooms since most houses don't have more than that\n",
    "df['bathrooms'].value_counts()"
   ]
  },
  {
   "cell_type": "code",
   "execution_count": 53,
   "metadata": {},
   "outputs": [
    {
     "name": "stdout",
     "output_type": "stream",
     "text": [
      "Bedrooms correlation with popularity is 0.21749208960703859\n",
      "3.0    0.430793\n",
      "4.0    0.318403\n",
      "2.0    0.125430\n",
      "5.0    0.094604\n",
      "6.0    0.015986\n",
      "1.0    0.013749\n",
      "0.0    0.001037\n",
      "Name: bedrooms, dtype: float64\n",
      "count    18329.000000\n",
      "mean         3.399531\n",
      "std          0.933202\n",
      "min          0.000000\n",
      "25%          3.000000\n",
      "50%          3.000000\n",
      "75%          4.000000\n",
      "max          6.000000\n",
      "Name: bedrooms, dtype: float64\n"
     ]
    },
    {
     "name": "stderr",
     "output_type": "stream",
     "text": [
      "C:\\Users\\erinv\\anaconda3\\envs\\learn-env\\lib\\site-packages\\seaborn\\distributions.py:2551: FutureWarning: `distplot` is a deprecated function and will be removed in a future version. Please adapt your code to use either `displot` (a figure-level function with similar flexibility) or `histplot` (an axes-level function for histograms).\n",
      "  warnings.warn(msg, FutureWarning)\n"
     ]
    },
    {
     "data": {
      "image/png": "[encoded data removed]",
      "text/plain": [
       "<Figure size 1080x576 with 1 Axes>"
      ]
     },
     "metadata": {
      "needs_background": "light"
     },
     "output_type": "display_data"
    },
    {
     "data": {
      "image/png": "[encoded data removed]",
      "text/plain": [
       "<Figure size 1080x576 with 1 Axes>"
      ]
     },
     "metadata": {
      "needs_background": "light"
     },
     "output_type": "display_data"
    }
   ],
   "source": [
    "feature_analysis('bedrooms')"
   ]
  },
  {
   "cell_type": "code",
   "execution_count": 54,
   "metadata": {},
   "outputs": [
    {
     "data": {
      "text/html": [
       "<div>\n",
       "<style scoped>\n",
       "    .dataframe tbody tr th:only-of-type {\n",
       "        vertical-align: middle;\n",
       "    }\n",
       "\n",
       "    .dataframe tbody tr th {\n",
       "        vertical-align: top;\n",
       "    }\n",
       "\n",
       "    .dataframe thead th {\n",
       "        text-align: right;\n",
       "    }\n",
       "</style>\n",
       "<table border=\"1\" class=\"dataframe\">\n",
       "  <thead>\n",
       "    <tr style=\"text-align: right;\">\n",
       "      <th></th>\n",
       "      <th>is_bankOwned</th>\n",
       "      <th>is_forAuction</th>\n",
       "      <th>event</th>\n",
       "      <th>price</th>\n",
       "      <th>pricePerSquareFoot</th>\n",
       "      <th>city</th>\n",
       "      <th>state</th>\n",
       "      <th>yearBuilt</th>\n",
       "      <th>streetAddress</th>\n",
       "      <th>zipcode</th>\n",
       "      <th>...</th>\n",
       "      <th>garageSpaces</th>\n",
       "      <th>hasGarage</th>\n",
       "      <th>levels</th>\n",
       "      <th>pool</th>\n",
       "      <th>spa</th>\n",
       "      <th>isNewConstruction</th>\n",
       "      <th>hasPetsAllowed</th>\n",
       "      <th>homeType</th>\n",
       "      <th>county</th>\n",
       "      <th>year</th>\n",
       "    </tr>\n",
       "  </thead>\n",
       "  <tbody>\n",
       "    <tr>\n",
       "      <th>9061</th>\n",
       "      <td>0</td>\n",
       "      <td>0</td>\n",
       "      <td>Listed for sale</td>\n",
       "      <td>1549888.0</td>\n",
       "      <td>1458.0</td>\n",
       "      <td>Sunnyvale</td>\n",
       "      <td>CA</td>\n",
       "      <td>1926</td>\n",
       "      <td>421 S Sunnyvale Ave</td>\n",
       "      <td>94086.0</td>\n",
       "      <td>...</td>\n",
       "      <td>0.0</td>\n",
       "      <td>0</td>\n",
       "      <td>0</td>\n",
       "      <td>0</td>\n",
       "      <td>0</td>\n",
       "      <td>0</td>\n",
       "      <td>0</td>\n",
       "      <td>SINGLE_FAMILY</td>\n",
       "      <td>Santa Clara County</td>\n",
       "      <td>2021</td>\n",
       "    </tr>\n",
       "    <tr>\n",
       "      <th>10470</th>\n",
       "      <td>0</td>\n",
       "      <td>0</td>\n",
       "      <td>Listed for sale</td>\n",
       "      <td>1400000.0</td>\n",
       "      <td>373.0</td>\n",
       "      <td>El Sobrante</td>\n",
       "      <td>CA</td>\n",
       "      <td>1949</td>\n",
       "      <td>4022 San Pablo Dam Rd</td>\n",
       "      <td>94803.0</td>\n",
       "      <td>...</td>\n",
       "      <td>0.0</td>\n",
       "      <td>1</td>\n",
       "      <td>0</td>\n",
       "      <td>0</td>\n",
       "      <td>0</td>\n",
       "      <td>0</td>\n",
       "      <td>0</td>\n",
       "      <td>SINGLE_FAMILY</td>\n",
       "      <td>Contra Costa County</td>\n",
       "      <td>2021</td>\n",
       "    </tr>\n",
       "    <tr>\n",
       "      <th>14739</th>\n",
       "      <td>0</td>\n",
       "      <td>0</td>\n",
       "      <td>Listed for sale</td>\n",
       "      <td>1395000.0</td>\n",
       "      <td>372.0</td>\n",
       "      <td>Seaside</td>\n",
       "      <td>CA</td>\n",
       "      <td>1972</td>\n",
       "      <td>751 Dias St</td>\n",
       "      <td>93955.0</td>\n",
       "      <td>...</td>\n",
       "      <td>0.0</td>\n",
       "      <td>0</td>\n",
       "      <td>0</td>\n",
       "      <td>0</td>\n",
       "      <td>0</td>\n",
       "      <td>0</td>\n",
       "      <td>0</td>\n",
       "      <td>SINGLE_FAMILY</td>\n",
       "      <td>Monterey County</td>\n",
       "      <td>2021</td>\n",
       "    </tr>\n",
       "    <tr>\n",
       "      <th>16065</th>\n",
       "      <td>0</td>\n",
       "      <td>0</td>\n",
       "      <td>Listed for sale</td>\n",
       "      <td>1200000.0</td>\n",
       "      <td>316.0</td>\n",
       "      <td>Angels Camp</td>\n",
       "      <td>CA</td>\n",
       "      <td>1900</td>\n",
       "      <td>1177 S Main St</td>\n",
       "      <td>95222.0</td>\n",
       "      <td>...</td>\n",
       "      <td>0.0</td>\n",
       "      <td>0</td>\n",
       "      <td>0</td>\n",
       "      <td>0</td>\n",
       "      <td>0</td>\n",
       "      <td>0</td>\n",
       "      <td>0</td>\n",
       "      <td>SINGLE_FAMILY</td>\n",
       "      <td>Calaveras County</td>\n",
       "      <td>2021</td>\n",
       "    </tr>\n",
       "  </tbody>\n",
       "</table>\n",
       "<p>4 rows × 32 columns</p>\n",
       "</div>"
      ],
      "text/plain": [
       "       is_bankOwned  is_forAuction            event      price  \\\n",
       "9061              0              0  Listed for sale  1549888.0   \n",
       "10470             0              0  Listed for sale  1400000.0   \n",
       "14739             0              0  Listed for sale  1395000.0   \n",
       "16065             0              0  Listed for sale  1200000.0   \n",
       "\n",
       "       pricePerSquareFoot         city state  yearBuilt  \\\n",
       "9061               1458.0    Sunnyvale    CA       1926   \n",
       "10470               373.0  El Sobrante    CA       1949   \n",
       "14739               372.0      Seaside    CA       1972   \n",
       "16065               316.0  Angels Camp    CA       1900   \n",
       "\n",
       "               streetAddress  zipcode  ...  garageSpaces  hasGarage  levels  \\\n",
       "9061     421 S Sunnyvale Ave  94086.0  ...           0.0          0       0   \n",
       "10470  4022 San Pablo Dam Rd  94803.0  ...           0.0          1       0   \n",
       "14739            751 Dias St  93955.0  ...           0.0          0       0   \n",
       "16065         1177 S Main St  95222.0  ...           0.0          0       0   \n",
       "\n",
       "      pool spa  isNewConstruction  hasPetsAllowed       homeType  \\\n",
       "9061     0   0                  0               0  SINGLE_FAMILY   \n",
       "10470    0   0                  0               0  SINGLE_FAMILY   \n",
       "14739    0   0                  0               0  SINGLE_FAMILY   \n",
       "16065    0   0                  0               0  SINGLE_FAMILY   \n",
       "\n",
       "                    county  year  \n",
       "9061    Santa Clara County  2021  \n",
       "10470  Contra Costa County  2021  \n",
       "14739      Monterey County  2021  \n",
       "16065     Calaveras County  2021  \n",
       "\n",
       "[4 rows x 32 columns]"
      ]
     },
     "execution_count": 54,
     "metadata": {},
     "output_type": "execute_result"
    }
   ],
   "source": [
    "bedroom_outliers = df[(df['bedrooms'] == 0) & (df['price'] > 1000000)]\n",
    "bedroom_outliers"
   ]
  },
  {
   "cell_type": "code",
   "execution_count": null,
   "metadata": {},
   "outputs": [],
   "source": []
  },
  {
   "cell_type": "code",
   "execution_count": null,
   "metadata": {},
   "outputs": [],
   "source": []
  },
  {
   "cell_type": "code",
   "execution_count": null,
   "metadata": {},
   "outputs": [],
   "source": []
  },
  {
   "cell_type": "code",
   "execution_count": null,
   "metadata": {},
   "outputs": [],
   "source": []
  },
  {
   "cell_type": "code",
   "execution_count": null,
   "metadata": {},
   "outputs": [],
   "source": []
  },
  {
   "cell_type": "code",
   "execution_count": null,
   "metadata": {},
   "outputs": [],
   "source": []
  },
  {
   "cell_type": "code",
   "execution_count": null,
   "metadata": {},
   "outputs": [],
   "source": []
  },
  {
   "cell_type": "code",
   "execution_count": null,
   "metadata": {},
   "outputs": [],
   "source": []
  },
  {
   "cell_type": "code",
   "execution_count": null,
   "metadata": {},
   "outputs": [],
   "source": []
  },
  {
   "cell_type": "code",
   "execution_count": null,
   "metadata": {},
   "outputs": [],
   "source": []
  },
  {
   "cell_type": "code",
   "execution_count": null,
   "metadata": {},
   "outputs": [],
   "source": []
  },
  {
   "cell_type": "markdown",
   "metadata": {},
   "source": [
    "#### Target: Popularity Analysis"
   ]
  },
  {
   "cell_type": "code",
   "execution_count": 55,
   "metadata": {},
   "outputs": [
    {
     "data": {
      "text/plain": [
       "count    1.832900e+04\n",
       "mean     1.053670e+06\n",
       "std      1.235783e+06\n",
       "min      0.000000e+00\n",
       "25%      4.800000e+05\n",
       "50%      7.490000e+05\n",
       "75%      1.199000e+06\n",
       "max      2.880000e+07\n",
       "Name: price, dtype: float64"
      ]
     },
     "execution_count": 55,
     "metadata": {},
     "output_type": "execute_result"
    }
   ],
   "source": [
    "df['price'].describe()"
   ]
  },
  {
   "cell_type": "code",
   "execution_count": 56,
   "metadata": {},
   "outputs": [
    {
     "data": {
      "text/plain": [
       "(-28800.001, 3600000.0]     17796\n",
       "(3600000.0, 7200000.0]        425\n",
       "(7200000.0, 10800000.0]        70\n",
       "(10800000.0, 14400000.0]       17\n",
       "(14400000.0, 18000000.0]       10\n",
       "(18000000.0, 21600000.0]        5\n",
       "(21600000.0, 25200000.0]        4\n",
       "(25200000.0, 28800000.0]        2\n",
       "Name: price, dtype: int64"
      ]
     },
     "execution_count": 56,
     "metadata": {},
     "output_type": "execute_result"
    }
   ],
   "source": [
    "df['price'].value_counts(bins=8)"
   ]
  },
  {
   "cell_type": "code",
   "execution_count": 57,
   "metadata": {},
   "outputs": [
    {
     "data": {
      "text/plain": [
       "28800000.0"
      ]
     },
     "execution_count": 57,
     "metadata": {},
     "output_type": "execute_result"
    }
   ],
   "source": [
    "df['price'].max()"
   ]
  },
  {
   "cell_type": "code",
   "execution_count": 58,
   "metadata": {},
   "outputs": [
    {
     "data": {
      "image/png": "[encoded data removed]",
      "text/plain": [
       "<Figure size 1080x576 with 1 Axes>"
      ]
     },
     "metadata": {
      "needs_background": "light"
     },
     "output_type": "display_data"
    }
   ],
   "source": [
    "fig, ax = plt.subplots(figsize=(15, 8))\n",
    "ax.hist(df['price'], bins=50);"
   ]
  },
  {
   "cell_type": "code",
   "execution_count": 59,
   "metadata": {},
   "outputs": [
    {
     "data": {
      "image/png": "[encoded data removed]",
      "text/plain": [
       "<Figure size 1080x576 with 1 Axes>"
      ]
     },
     "metadata": {
      "needs_background": "light"
     },
     "output_type": "display_data"
    }
   ],
   "source": [
    "#Boxplot with outliers\n",
    "fig, ax = plt.subplots(figsize=(15, 8))\n",
    "sns.boxplot(x=df['price'], showmeans=True, meanline=True);"
   ]
  },
  {
   "cell_type": "code",
   "execution_count": 60,
   "metadata": {},
   "outputs": [
    {
     "data": {
      "image/png": "[encoded data removed]",
      "text/plain": [
       "<Figure size 1080x576 with 1 Axes>"
      ]
     },
     "metadata": {
      "needs_background": "light"
     },
     "output_type": "display_data"
    }
   ],
   "source": [
    "#Boxplot without outliers\n",
    "fig, ax = plt.subplots(figsize=(15, 8))\n",
    "sns.boxplot(x=df['price'], showfliers=False);"
   ]
  },
  {
   "cell_type": "code",
   "execution_count": 61,
   "metadata": {},
   "outputs": [
    {
     "data": {
      "image/png": "[encoded data removed]",
      "text/plain": [
       "<Figure size 1008x504 with 1 Axes>"
      ]
     },
     "metadata": {
      "needs_background": "light"
     },
     "output_type": "display_data"
    }
   ],
   "source": [
    "sns.displot(df['price'], height=7, aspect=2);"
   ]
  },
  {
   "cell_type": "code",
   "execution_count": 62,
   "metadata": {},
   "outputs": [
    {
     "data": {
      "text/html": [
       "<div>\n",
       "<style scoped>\n",
       "    .dataframe tbody tr th:only-of-type {\n",
       "        vertical-align: middle;\n",
       "    }\n",
       "\n",
       "    .dataframe tbody tr th {\n",
       "        vertical-align: top;\n",
       "    }\n",
       "\n",
       "    .dataframe thead th {\n",
       "        text-align: right;\n",
       "    }\n",
       "</style>\n",
       "<table border=\"1\" class=\"dataframe\">\n",
       "  <thead>\n",
       "    <tr style=\"text-align: right;\">\n",
       "      <th></th>\n",
       "      <th>price</th>\n",
       "    </tr>\n",
       "  </thead>\n",
       "  <tbody>\n",
       "    <tr>\n",
       "      <th>price</th>\n",
       "      <td>1.000000</td>\n",
       "    </tr>\n",
       "    <tr>\n",
       "      <th>bathrooms</th>\n",
       "      <td>0.416429</td>\n",
       "    </tr>\n",
       "    <tr>\n",
       "      <th>bedrooms</th>\n",
       "      <td>0.217492</td>\n",
       "    </tr>\n",
       "    <tr>\n",
       "      <th>spa</th>\n",
       "      <td>0.122863</td>\n",
       "    </tr>\n",
       "    <tr>\n",
       "      <th>pool</th>\n",
       "      <td>0.107824</td>\n",
       "    </tr>\n",
       "    <tr>\n",
       "      <th>longitude</th>\n",
       "      <td>0.095395</td>\n",
       "    </tr>\n",
       "    <tr>\n",
       "      <th>garageSpaces</th>\n",
       "      <td>0.089970</td>\n",
       "    </tr>\n",
       "    <tr>\n",
       "      <th>parking</th>\n",
       "      <td>0.070400</td>\n",
       "    </tr>\n",
       "    <tr>\n",
       "      <th>zipcode</th>\n",
       "      <td>0.069504</td>\n",
       "    </tr>\n",
       "    <tr>\n",
       "      <th>hasGarage</th>\n",
       "      <td>0.054860</td>\n",
       "    </tr>\n",
       "    <tr>\n",
       "      <th>year</th>\n",
       "      <td>0.053563</td>\n",
       "    </tr>\n",
       "    <tr>\n",
       "      <th>livingAreaValue</th>\n",
       "      <td>0.052477</td>\n",
       "    </tr>\n",
       "    <tr>\n",
       "      <th>livingArea</th>\n",
       "      <td>0.052476</td>\n",
       "    </tr>\n",
       "    <tr>\n",
       "      <th>yearBuilt</th>\n",
       "      <td>0.050840</td>\n",
       "    </tr>\n",
       "    <tr>\n",
       "      <th>buildingArea</th>\n",
       "      <td>0.048470</td>\n",
       "    </tr>\n",
       "    <tr>\n",
       "      <th>isNewConstruction</th>\n",
       "      <td>0.040908</td>\n",
       "    </tr>\n",
       "    <tr>\n",
       "      <th>hasPetsAllowed</th>\n",
       "      <td>0.037027</td>\n",
       "    </tr>\n",
       "    <tr>\n",
       "      <th>latitude</th>\n",
       "      <td>0.033701</td>\n",
       "    </tr>\n",
       "    <tr>\n",
       "      <th>pricePerSquareFoot</th>\n",
       "      <td>0.026044</td>\n",
       "    </tr>\n",
       "    <tr>\n",
       "      <th>is_bankOwned</th>\n",
       "      <td>0.009640</td>\n",
       "    </tr>\n",
       "    <tr>\n",
       "      <th>is_forAuction</th>\n",
       "      <td>0.006191</td>\n",
       "    </tr>\n",
       "    <tr>\n",
       "      <th>hasBadGeocode</th>\n",
       "      <td>NaN</td>\n",
       "    </tr>\n",
       "  </tbody>\n",
       "</table>\n",
       "</div>"
      ],
      "text/plain": [
       "                       price\n",
       "price               1.000000\n",
       "bathrooms           0.416429\n",
       "bedrooms            0.217492\n",
       "spa                 0.122863\n",
       "pool                0.107824\n",
       "longitude           0.095395\n",
       "garageSpaces        0.089970\n",
       "parking             0.070400\n",
       "zipcode             0.069504\n",
       "hasGarage           0.054860\n",
       "year                0.053563\n",
       "livingAreaValue     0.052477\n",
       "livingArea          0.052476\n",
       "yearBuilt           0.050840\n",
       "buildingArea        0.048470\n",
       "isNewConstruction   0.040908\n",
       "hasPetsAllowed      0.037027\n",
       "latitude            0.033701\n",
       "pricePerSquareFoot  0.026044\n",
       "is_bankOwned        0.009640\n",
       "is_forAuction       0.006191\n",
       "hasBadGeocode            NaN"
      ]
     },
     "execution_count": 62,
     "metadata": {},
     "output_type": "execute_result"
    }
   ],
   "source": [
    "pop_corr = abs(df.corr()[['price']]).sort_values('price', ascending=False) #Correlation analysis against price\n",
    "pop_corr"
   ]
  },
  {
   "cell_type": "code",
   "execution_count": 63,
   "metadata": {},
   "outputs": [
    {
     "data": {
      "image/png": "[encoded data removed]",
      "text/plain": [
       "<Figure size 1080x576 with 2 Axes>"
      ]
     },
     "metadata": {
      "needs_background": "light"
     },
     "output_type": "display_data"
    }
   ],
   "source": [
    "fig, ax = plt.subplots(figsize=(15, 8))\n",
    "sns.heatmap(pop_corr, ax=ax, annot=True)\n",
    "ax.set_yticklabels(labels=pop_corr.index, fontsize=12);"
   ]
  },
  {
   "cell_type": "markdown",
   "metadata": {},
   "source": [
    "### Feature Exploration"
   ]
  },
  {
   "cell_type": "code",
   "execution_count": null,
   "metadata": {},
   "outputs": [],
   "source": []
  }
 ],
 "metadata": {
  "kernelspec": {
   "display_name": "Python (learn-env)",
   "language": "python",
   "name": "learn-env"
  },
  "language_info": {
   "codemirror_mode": {
    "name": "ipython",
    "version": 3
   },
   "file_extension": ".py",
   "mimetype": "text/x-python",
   "name": "python",
   "nbconvert_exporter": "python",
   "pygments_lexer": "ipython3",
   "version": "3.8.5"
  }
 },
 "nbformat": 4,
 "nbformat_minor": 4
}
