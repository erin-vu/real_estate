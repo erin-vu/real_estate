{
 "cells": [
  {
   "cell_type": "markdown",
   "metadata": {},
   "source": [
    "# Real Estate Analysis"
   ]
  },
  {
   "cell_type": "markdown",
   "metadata": {},
   "source": [
    "## Overview\n",
    "\n",
    "This project is an analysis of real estate within California. The goal of the project is to be able to predict sale price based on the features of the house. "
   ]
  },
  {
   "cell_type": "markdown",
   "metadata": {},
   "source": [
    "## Business Problem\n",
    "\n",
    "The business problem for this project is to accurately price houses for sale according to the features of the house. "
   ]
  },
  {
   "cell_type": "markdown",
   "metadata": {},
   "source": [
    "## Data Understanding\n",
    "\n",
    "The California Real Estate dataset from Kaggle has around 35,000 records of houses within the state. There are a total of 38 columns and include data such as location, size, and amenities. "
   ]
  },
  {
   "cell_type": "code",
   "execution_count": 33,
   "metadata": {},
   "outputs": [],
   "source": [
    "#Importing the necessary libraries\n",
    "import pandas as pd\n",
    "import numpy as np\n",
    "import matplotlib.pyplot as plt\n",
    "%matplotlib inline\n",
    "import seaborn as sns"
   ]
  },
  {
   "cell_type": "code",
   "execution_count": 2,
   "metadata": {},
   "outputs": [
    {
     "data": {
      "text/html": [
       "<div>\n",
       "<style scoped>\n",
       "    .dataframe tbody tr th:only-of-type {\n",
       "        vertical-align: middle;\n",
       "    }\n",
       "\n",
       "    .dataframe tbody tr th {\n",
       "        vertical-align: top;\n",
       "    }\n",
       "\n",
       "    .dataframe thead th {\n",
       "        text-align: right;\n",
       "    }\n",
       "</style>\n",
       "<table border=\"1\" class=\"dataframe\">\n",
       "  <thead>\n",
       "    <tr style=\"text-align: right;\">\n",
       "      <th></th>\n",
       "      <th>id</th>\n",
       "      <th>stateId</th>\n",
       "      <th>countyId</th>\n",
       "      <th>cityId</th>\n",
       "      <th>country</th>\n",
       "      <th>datePostedString</th>\n",
       "      <th>is_bankOwned</th>\n",
       "      <th>is_forAuction</th>\n",
       "      <th>event</th>\n",
       "      <th>time</th>\n",
       "      <th>...</th>\n",
       "      <th>parking</th>\n",
       "      <th>garageSpaces</th>\n",
       "      <th>hasGarage</th>\n",
       "      <th>levels</th>\n",
       "      <th>pool</th>\n",
       "      <th>spa</th>\n",
       "      <th>isNewConstruction</th>\n",
       "      <th>hasPetsAllowed</th>\n",
       "      <th>homeType</th>\n",
       "      <th>county</th>\n",
       "    </tr>\n",
       "  </thead>\n",
       "  <tbody>\n",
       "    <tr>\n",
       "      <th>0</th>\n",
       "      <td>95717-2087851113</td>\n",
       "      <td>9</td>\n",
       "      <td>77</td>\n",
       "      <td>24895</td>\n",
       "      <td>USA</td>\n",
       "      <td>2021-01-13</td>\n",
       "      <td>0</td>\n",
       "      <td>0</td>\n",
       "      <td>Listed for sale</td>\n",
       "      <td>1.610496e+12</td>\n",
       "      <td>...</td>\n",
       "      <td>0</td>\n",
       "      <td>0.0</td>\n",
       "      <td>0</td>\n",
       "      <td>0</td>\n",
       "      <td>0</td>\n",
       "      <td>0</td>\n",
       "      <td>0</td>\n",
       "      <td>0</td>\n",
       "      <td>LOT</td>\n",
       "      <td>Placer County</td>\n",
       "    </tr>\n",
       "    <tr>\n",
       "      <th>1</th>\n",
       "      <td>94564-18496265</td>\n",
       "      <td>9</td>\n",
       "      <td>189</td>\n",
       "      <td>36958</td>\n",
       "      <td>USA</td>\n",
       "      <td>2021-07-12</td>\n",
       "      <td>0</td>\n",
       "      <td>0</td>\n",
       "      <td>Listed for sale</td>\n",
       "      <td>1.626048e+12</td>\n",
       "      <td>...</td>\n",
       "      <td>1</td>\n",
       "      <td>2.0</td>\n",
       "      <td>1</td>\n",
       "      <td>One Story</td>\n",
       "      <td>0</td>\n",
       "      <td>0</td>\n",
       "      <td>0</td>\n",
       "      <td>0</td>\n",
       "      <td>SINGLE_FAMILY</td>\n",
       "      <td>Contra Costa County</td>\n",
       "    </tr>\n",
       "    <tr>\n",
       "      <th>2</th>\n",
       "      <td>94564-18484475</td>\n",
       "      <td>9</td>\n",
       "      <td>190</td>\n",
       "      <td>36958</td>\n",
       "      <td>USA</td>\n",
       "      <td>2021-07-08</td>\n",
       "      <td>0</td>\n",
       "      <td>0</td>\n",
       "      <td>Listed for sale</td>\n",
       "      <td>1.625702e+12</td>\n",
       "      <td>...</td>\n",
       "      <td>1</td>\n",
       "      <td>2.0</td>\n",
       "      <td>1</td>\n",
       "      <td>One Story</td>\n",
       "      <td>0</td>\n",
       "      <td>0</td>\n",
       "      <td>0</td>\n",
       "      <td>0</td>\n",
       "      <td>SINGLE_FAMILY</td>\n",
       "      <td>Contra Costa County</td>\n",
       "    </tr>\n",
       "    <tr>\n",
       "      <th>3</th>\n",
       "      <td>94564-18494835</td>\n",
       "      <td>9</td>\n",
       "      <td>191</td>\n",
       "      <td>36958</td>\n",
       "      <td>USA</td>\n",
       "      <td>2021-07-07</td>\n",
       "      <td>0</td>\n",
       "      <td>0</td>\n",
       "      <td>Listed for sale</td>\n",
       "      <td>1.625616e+12</td>\n",
       "      <td>...</td>\n",
       "      <td>1</td>\n",
       "      <td>1.0</td>\n",
       "      <td>1</td>\n",
       "      <td>Two Story</td>\n",
       "      <td>0</td>\n",
       "      <td>1</td>\n",
       "      <td>0</td>\n",
       "      <td>0</td>\n",
       "      <td>SINGLE_FAMILY</td>\n",
       "      <td>Contra Costa County</td>\n",
       "    </tr>\n",
       "    <tr>\n",
       "      <th>4</th>\n",
       "      <td>94564-2069722747</td>\n",
       "      <td>9</td>\n",
       "      <td>192</td>\n",
       "      <td>36958</td>\n",
       "      <td>USA</td>\n",
       "      <td>2021-07-07</td>\n",
       "      <td>0</td>\n",
       "      <td>0</td>\n",
       "      <td>Listed for sale</td>\n",
       "      <td>1.625616e+12</td>\n",
       "      <td>...</td>\n",
       "      <td>0</td>\n",
       "      <td>0.0</td>\n",
       "      <td>0</td>\n",
       "      <td>0</td>\n",
       "      <td>0</td>\n",
       "      <td>0</td>\n",
       "      <td>0</td>\n",
       "      <td>0</td>\n",
       "      <td>LOT</td>\n",
       "      <td>Contra Costa County</td>\n",
       "    </tr>\n",
       "  </tbody>\n",
       "</table>\n",
       "<p>5 rows × 38 columns</p>\n",
       "</div>"
      ],
      "text/plain": [
       "                 id  stateId  countyId  cityId country datePostedString  \\\n",
       "0  95717-2087851113        9        77   24895     USA       2021-01-13   \n",
       "1    94564-18496265        9       189   36958     USA       2021-07-12   \n",
       "2    94564-18484475        9       190   36958     USA       2021-07-08   \n",
       "3    94564-18494835        9       191   36958     USA       2021-07-07   \n",
       "4  94564-2069722747        9       192   36958     USA       2021-07-07   \n",
       "\n",
       "   is_bankOwned  is_forAuction            event          time  ...  parking  \\\n",
       "0             0              0  Listed for sale  1.610496e+12  ...        0   \n",
       "1             0              0  Listed for sale  1.626048e+12  ...        1   \n",
       "2             0              0  Listed for sale  1.625702e+12  ...        1   \n",
       "3             0              0  Listed for sale  1.625616e+12  ...        1   \n",
       "4             0              0  Listed for sale  1.625616e+12  ...        0   \n",
       "\n",
       "   garageSpaces hasGarage     levels  pool spa  isNewConstruction  \\\n",
       "0           0.0         0          0     0   0                  0   \n",
       "1           2.0         1  One Story     0   0                  0   \n",
       "2           2.0         1  One Story     0   0                  0   \n",
       "3           1.0         1  Two Story     0   1                  0   \n",
       "4           0.0         0          0     0   0                  0   \n",
       "\n",
       "   hasPetsAllowed       homeType               county  \n",
       "0               0            LOT        Placer County  \n",
       "1               0  SINGLE_FAMILY  Contra Costa County  \n",
       "2               0  SINGLE_FAMILY  Contra Costa County  \n",
       "3               0  SINGLE_FAMILY  Contra Costa County  \n",
       "4               0            LOT  Contra Costa County  \n",
       "\n",
       "[5 rows x 38 columns]"
      ]
     },
     "execution_count": 2,
     "metadata": {},
     "output_type": "execute_result"
    }
   ],
   "source": [
    "df = pd.read_csv('data/RealEstate_California.csv', index_col=0) #loading the data\n",
    "df.head() #Viewing the first five rows of data"
   ]
  },
  {
   "cell_type": "code",
   "execution_count": 3,
   "metadata": {},
   "outputs": [],
   "source": [
    "df.drop(['id', 'stateId', 'country', 'cityId', 'countyId', 'time'], axis=1, inplace=True) \n",
    "#Dropping variables without predictor value or redundant"
   ]
  },
  {
   "cell_type": "code",
   "execution_count": 4,
   "metadata": {},
   "outputs": [
    {
     "name": "stdout",
     "output_type": "stream",
     "text": [
      "<class 'pandas.core.frame.DataFrame'>\n",
      "Int64Index: 35389 entries, 0 to 35388\n",
      "Data columns (total 32 columns):\n",
      " #   Column              Non-Null Count  Dtype  \n",
      "---  ------              --------------  -----  \n",
      " 0   datePostedString    35386 non-null  object \n",
      " 1   is_bankOwned        35389 non-null  int64  \n",
      " 2   is_forAuction       35389 non-null  int64  \n",
      " 3   event               35389 non-null  object \n",
      " 4   price               35389 non-null  float64\n",
      " 5   pricePerSquareFoot  35389 non-null  float64\n",
      " 6   city                35389 non-null  object \n",
      " 7   state               35389 non-null  object \n",
      " 8   yearBuilt           35389 non-null  int64  \n",
      " 9   streetAddress       35389 non-null  object \n",
      " 10  zipcode             35364 non-null  float64\n",
      " 11  longitude           35389 non-null  float64\n",
      " 12  latitude            35389 non-null  float64\n",
      " 13  hasBadGeocode       35389 non-null  int64  \n",
      " 14  description         35110 non-null  object \n",
      " 15  currency            35389 non-null  object \n",
      " 16  livingArea          35389 non-null  float64\n",
      " 17  livingAreaValue     35389 non-null  float64\n",
      " 18  lotAreaUnits        35389 non-null  object \n",
      " 19  bathrooms           35389 non-null  float64\n",
      " 20  bedrooms            35389 non-null  float64\n",
      " 21  buildingArea        35389 non-null  float64\n",
      " 22  parking             35389 non-null  int64  \n",
      " 23  garageSpaces        35389 non-null  float64\n",
      " 24  hasGarage           35389 non-null  int64  \n",
      " 25  levels              35389 non-null  object \n",
      " 26  pool                35389 non-null  int64  \n",
      " 27  spa                 35389 non-null  int64  \n",
      " 28  isNewConstruction   35389 non-null  int64  \n",
      " 29  hasPetsAllowed      35389 non-null  int64  \n",
      " 30  homeType            35389 non-null  object \n",
      " 31  county              35389 non-null  object \n",
      "dtypes: float64(11), int64(10), object(11)\n",
      "memory usage: 8.9+ MB\n"
     ]
    }
   ],
   "source": [
    "df.info() #looking at the overall columns/features"
   ]
  },
  {
   "cell_type": "code",
   "execution_count": 5,
   "metadata": {},
   "outputs": [
    {
     "data": {
      "text/plain": [
       "datePostedString        3\n",
       "is_bankOwned            0\n",
       "is_forAuction           0\n",
       "event                   0\n",
       "price                   0\n",
       "pricePerSquareFoot      0\n",
       "city                    0\n",
       "state                   0\n",
       "yearBuilt               0\n",
       "streetAddress           0\n",
       "zipcode                25\n",
       "longitude               0\n",
       "latitude                0\n",
       "hasBadGeocode           0\n",
       "description           279\n",
       "currency                0\n",
       "livingArea              0\n",
       "livingAreaValue         0\n",
       "lotAreaUnits            0\n",
       "bathrooms               0\n",
       "bedrooms                0\n",
       "buildingArea            0\n",
       "parking                 0\n",
       "garageSpaces            0\n",
       "hasGarage               0\n",
       "levels                  0\n",
       "pool                    0\n",
       "spa                     0\n",
       "isNewConstruction       0\n",
       "hasPetsAllowed          0\n",
       "homeType                0\n",
       "county                  0\n",
       "dtype: int64"
      ]
     },
     "execution_count": 5,
     "metadata": {},
     "output_type": "execute_result"
    }
   ],
   "source": [
    "df.isna().sum() #checking for null values"
   ]
  },
  {
   "cell_type": "code",
   "execution_count": 6,
   "metadata": {},
   "outputs": [],
   "source": [
    "df.dropna(inplace=True) #dropping null values since there aren't too many when looking at the overall dataset"
   ]
  },
  {
   "cell_type": "code",
   "execution_count": 7,
   "metadata": {},
   "outputs": [
    {
     "data": {
      "text/plain": [
       "datePostedString      0\n",
       "is_bankOwned          0\n",
       "is_forAuction         0\n",
       "event                 0\n",
       "price                 0\n",
       "pricePerSquareFoot    0\n",
       "city                  0\n",
       "state                 0\n",
       "yearBuilt             0\n",
       "streetAddress         0\n",
       "zipcode               0\n",
       "longitude             0\n",
       "latitude              0\n",
       "hasBadGeocode         0\n",
       "description           0\n",
       "currency              0\n",
       "livingArea            0\n",
       "livingAreaValue       0\n",
       "lotAreaUnits          0\n",
       "bathrooms             0\n",
       "bedrooms              0\n",
       "buildingArea          0\n",
       "parking               0\n",
       "garageSpaces          0\n",
       "hasGarage             0\n",
       "levels                0\n",
       "pool                  0\n",
       "spa                   0\n",
       "isNewConstruction     0\n",
       "hasPetsAllowed        0\n",
       "homeType              0\n",
       "county                0\n",
       "dtype: int64"
      ]
     },
     "execution_count": 7,
     "metadata": {},
     "output_type": "execute_result"
    }
   ],
   "source": [
    "df.isna().sum() #verifying there's no more nulls"
   ]
  },
  {
   "cell_type": "code",
   "execution_count": 8,
   "metadata": {},
   "outputs": [
    {
     "name": "stdout",
     "output_type": "stream",
     "text": [
      "There are 3983 duplicated values\n"
     ]
    }
   ],
   "source": [
    "print(f'There are {df.duplicated().sum()} duplicated values') #Checking for any duplicated values"
   ]
  },
  {
   "cell_type": "code",
   "execution_count": 9,
   "metadata": {},
   "outputs": [
    {
     "name": "stdout",
     "output_type": "stream",
     "text": [
      "There are 0 duplicated values\n"
     ]
    }
   ],
   "source": [
    "df.drop_duplicates(keep='first', inplace=True)\n",
    "print(f'There are {df.duplicated().sum()} duplicated values') #Verifying duplicated values have been dropped"
   ]
  },
  {
   "cell_type": "code",
   "execution_count": 10,
   "metadata": {},
   "outputs": [],
   "source": [
    "df['year'] = pd.to_datetime(df['datePostedString']) #Converting date posted to year to observe yearly trends\n",
    "df['year'] = df['year'].dt.year\n",
    "df.drop(['datePostedString'], inplace=True, axis=1) #Dropping original date posted column"
   ]
  },
  {
   "cell_type": "markdown",
   "metadata": {},
   "source": [
    "#### Target: Popularity Analysis"
   ]
  },
  {
   "cell_type": "code",
   "execution_count": 32,
   "metadata": {},
   "outputs": [
    {
     "data": {
      "text/plain": [
       "count    3.109900e+04\n",
       "mean     1.205870e+06\n",
       "std      2.660288e+06\n",
       "min      0.000000e+00\n",
       "25%      3.950000e+05\n",
       "50%      6.900000e+05\n",
       "75%      1.200000e+06\n",
       "max      9.500000e+07\n",
       "Name: price, dtype: float64"
      ]
     },
     "execution_count": 32,
     "metadata": {},
     "output_type": "execute_result"
    }
   ],
   "source": [
    "df['price'].describe()"
   ]
  },
  {
   "cell_type": "code",
   "execution_count": 20,
   "metadata": {},
   "outputs": [
    {
     "data": {
      "image/png": "[encoded data removed]",
      "text/plain": [
       "<Figure size 1080x576 with 1 Axes>"
      ]
     },
     "metadata": {
      "needs_background": "light"
     },
     "output_type": "display_data"
    }
   ],
   "source": [
    "fig, ax = plt.subplots(figsize=(15, 8))\n",
    "ax.hist(df['price'], bins=50);"
   ]
  },
  {
   "cell_type": "code",
   "execution_count": 41,
   "metadata": {},
   "outputs": [
    {
     "data": {
      "image/png": "[encoded data removed]",
      "text/plain": [
       "<Figure size 1080x576 with 1 Axes>"
      ]
     },
     "metadata": {
      "needs_background": "light"
     },
     "output_type": "display_data"
    }
   ],
   "source": [
    "#Boxplot with outliers\n",
    "fig, ax = plt.subplots(figsize=(15, 8))\n",
    "sns.boxplot(x=df['price'], showmeans=True, meanline=True);"
   ]
  },
  {
   "cell_type": "code",
   "execution_count": 43,
   "metadata": {},
   "outputs": [
    {
     "data": {
      "image/png": "[encoded data removed]",
      "text/plain": [
       "<Figure size 1080x576 with 1 Axes>"
      ]
     },
     "metadata": {
      "needs_background": "light"
     },
     "output_type": "display_data"
    }
   ],
   "source": [
    "#Boxplot without outliers\n",
    "fig, ax = plt.subplots(figsize=(15, 8))\n",
    "sns.boxplot(x=df['price'], showfliers=False);"
   ]
  },
  {
   "cell_type": "code",
   "execution_count": 54,
   "metadata": {},
   "outputs": [
    {
     "data": {
      "image/png": "[encoded data removed]",
      "text/plain": [
       "<Figure size 1008x504 with 1 Axes>"
      ]
     },
     "metadata": {
      "needs_background": "light"
     },
     "output_type": "display_data"
    }
   ],
   "source": [
    "sns.displot(df['price'], height=7, aspect=2);"
   ]
  },
  {
   "cell_type": "code",
   "execution_count": 56,
   "metadata": {},
   "outputs": [
    {
     "data": {
      "text/html": [
       "<div>\n",
       "<style scoped>\n",
       "    .dataframe tbody tr th:only-of-type {\n",
       "        vertical-align: middle;\n",
       "    }\n",
       "\n",
       "    .dataframe tbody tr th {\n",
       "        vertical-align: top;\n",
       "    }\n",
       "\n",
       "    .dataframe thead th {\n",
       "        text-align: right;\n",
       "    }\n",
       "</style>\n",
       "<table border=\"1\" class=\"dataframe\">\n",
       "  <thead>\n",
       "    <tr style=\"text-align: right;\">\n",
       "      <th></th>\n",
       "      <th>price</th>\n",
       "    </tr>\n",
       "  </thead>\n",
       "  <tbody>\n",
       "    <tr>\n",
       "      <th>price</th>\n",
       "      <td>1.000000</td>\n",
       "    </tr>\n",
       "    <tr>\n",
       "      <th>bathrooms</th>\n",
       "      <td>0.358305</td>\n",
       "    </tr>\n",
       "    <tr>\n",
       "      <th>bedrooms</th>\n",
       "      <td>0.182264</td>\n",
       "    </tr>\n",
       "    <tr>\n",
       "      <th>pool</th>\n",
       "      <td>0.158069</td>\n",
       "    </tr>\n",
       "    <tr>\n",
       "      <th>spa</th>\n",
       "      <td>0.114674</td>\n",
       "    </tr>\n",
       "    <tr>\n",
       "      <th>garageSpaces</th>\n",
       "      <td>0.113324</td>\n",
       "    </tr>\n",
       "    <tr>\n",
       "      <th>zipcode</th>\n",
       "      <td>0.079810</td>\n",
       "    </tr>\n",
       "    <tr>\n",
       "      <th>latitude</th>\n",
       "      <td>0.050764</td>\n",
       "    </tr>\n",
       "    <tr>\n",
       "      <th>yearBuilt</th>\n",
       "      <td>0.048952</td>\n",
       "    </tr>\n",
       "    <tr>\n",
       "      <th>hasGarage</th>\n",
       "      <td>0.046116</td>\n",
       "    </tr>\n",
       "    <tr>\n",
       "      <th>isNewConstruction</th>\n",
       "      <td>0.038527</td>\n",
       "    </tr>\n",
       "    <tr>\n",
       "      <th>longitude</th>\n",
       "      <td>0.034774</td>\n",
       "    </tr>\n",
       "    <tr>\n",
       "      <th>buildingArea</th>\n",
       "      <td>0.022399</td>\n",
       "    </tr>\n",
       "    <tr>\n",
       "      <th>is_forAuction</th>\n",
       "      <td>0.015324</td>\n",
       "    </tr>\n",
       "    <tr>\n",
       "      <th>livingArea</th>\n",
       "      <td>0.014275</td>\n",
       "    </tr>\n",
       "    <tr>\n",
       "      <th>livingAreaValue</th>\n",
       "      <td>0.014275</td>\n",
       "    </tr>\n",
       "    <tr>\n",
       "      <th>parking</th>\n",
       "      <td>0.011997</td>\n",
       "    </tr>\n",
       "    <tr>\n",
       "      <th>hasPetsAllowed</th>\n",
       "      <td>0.010987</td>\n",
       "    </tr>\n",
       "    <tr>\n",
       "      <th>pricePerSquareFoot</th>\n",
       "      <td>0.010334</td>\n",
       "    </tr>\n",
       "    <tr>\n",
       "      <th>is_bankOwned</th>\n",
       "      <td>0.004000</td>\n",
       "    </tr>\n",
       "    <tr>\n",
       "      <th>hasBadGeocode</th>\n",
       "      <td>0.003582</td>\n",
       "    </tr>\n",
       "    <tr>\n",
       "      <th>year</th>\n",
       "      <td>0.002481</td>\n",
       "    </tr>\n",
       "  </tbody>\n",
       "</table>\n",
       "</div>"
      ],
      "text/plain": [
       "                       price\n",
       "price               1.000000\n",
       "bathrooms           0.358305\n",
       "bedrooms            0.182264\n",
       "pool                0.158069\n",
       "spa                 0.114674\n",
       "garageSpaces        0.113324\n",
       "zipcode             0.079810\n",
       "latitude            0.050764\n",
       "yearBuilt           0.048952\n",
       "hasGarage           0.046116\n",
       "isNewConstruction   0.038527\n",
       "longitude           0.034774\n",
       "buildingArea        0.022399\n",
       "is_forAuction       0.015324\n",
       "livingArea          0.014275\n",
       "livingAreaValue     0.014275\n",
       "parking             0.011997\n",
       "hasPetsAllowed      0.010987\n",
       "pricePerSquareFoot  0.010334\n",
       "is_bankOwned        0.004000\n",
       "hasBadGeocode       0.003582\n",
       "year                0.002481"
      ]
     },
     "execution_count": 56,
     "metadata": {},
     "output_type": "execute_result"
    }
   ],
   "source": [
    "pop_corr = abs(df.corr()[['price']]).sort_values('price', ascending=False)\n",
    "pop_corr"
   ]
  },
  {
   "cell_type": "code",
   "execution_count": 58,
   "metadata": {},
   "outputs": [
    {
     "data": {
      "image/png": "[encoded data removed]",
      "text/plain": [
       "<Figure size 1080x576 with 2 Axes>"
      ]
     },
     "metadata": {
      "needs_background": "light"
     },
     "output_type": "display_data"
    }
   ],
   "source": [
    "fig, ax = plt.subplots(figsize=(15, 8))\n",
    "sns.heatmap(pop_corr, ax=ax, annot=True)\n",
    "ax.set_yticklabels(labels=pop_corr.index, fontsize=12);"
   ]
  },
  {
   "cell_type": "code",
   "execution_count": null,
   "metadata": {},
   "outputs": [],
   "source": []
  }
 ],
 "metadata": {
  "kernelspec": {
   "display_name": "Python (learn-env)",
   "language": "python",
   "name": "learn-env"
  },
  "language_info": {
   "codemirror_mode": {
    "name": "ipython",
    "version": 3
   },
   "file_extension": ".py",
   "mimetype": "text/x-python",
   "name": "python",
   "nbconvert_exporter": "python",
   "pygments_lexer": "ipython3",
   "version": "3.8.5"
  }
 },
 "nbformat": 4,
 "nbformat_minor": 4
}
