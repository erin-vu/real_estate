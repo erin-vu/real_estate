{
 "cells": [
  {
   "cell_type": "markdown",
   "metadata": {},
   "source": [
    "# Real Estate Analysis"
   ]
  },
  {
   "cell_type": "code",
   "execution_count": 3,
   "metadata": {},
   "outputs": [],
   "source": [
    "import pandas as pd\n",
    "import numpy as np\n",
    "import matplotlib.pyplot as plt\n",
    "%matplotlib inline"
   ]
  },
  {
   "cell_type": "code",
   "execution_count": 22,
   "metadata": {},
   "outputs": [
    {
     "data": {
      "text/html": [
       "<div>\n",
       "<style scoped>\n",
       "    .dataframe tbody tr th:only-of-type {\n",
       "        vertical-align: middle;\n",
       "    }\n",
       "\n",
       "    .dataframe tbody tr th {\n",
       "        vertical-align: top;\n",
       "    }\n",
       "\n",
       "    .dataframe thead th {\n",
       "        text-align: right;\n",
       "    }\n",
       "</style>\n",
       "<table border=\"1\" class=\"dataframe\">\n",
       "  <thead>\n",
       "    <tr style=\"text-align: right;\">\n",
       "      <th></th>\n",
       "      <th>id</th>\n",
       "      <th>stateId</th>\n",
       "      <th>countyId</th>\n",
       "      <th>cityId</th>\n",
       "      <th>country</th>\n",
       "      <th>datePostedString</th>\n",
       "      <th>is_bankOwned</th>\n",
       "      <th>is_forAuction</th>\n",
       "      <th>event</th>\n",
       "      <th>time</th>\n",
       "      <th>...</th>\n",
       "      <th>parking</th>\n",
       "      <th>garageSpaces</th>\n",
       "      <th>hasGarage</th>\n",
       "      <th>levels</th>\n",
       "      <th>pool</th>\n",
       "      <th>spa</th>\n",
       "      <th>isNewConstruction</th>\n",
       "      <th>hasPetsAllowed</th>\n",
       "      <th>homeType</th>\n",
       "      <th>county</th>\n",
       "    </tr>\n",
       "  </thead>\n",
       "  <tbody>\n",
       "    <tr>\n",
       "      <th>0</th>\n",
       "      <td>95717-2087851113</td>\n",
       "      <td>9</td>\n",
       "      <td>77</td>\n",
       "      <td>24895</td>\n",
       "      <td>USA</td>\n",
       "      <td>2021-01-13</td>\n",
       "      <td>0</td>\n",
       "      <td>0</td>\n",
       "      <td>Listed for sale</td>\n",
       "      <td>1.610496e+12</td>\n",
       "      <td>...</td>\n",
       "      <td>0</td>\n",
       "      <td>0.0</td>\n",
       "      <td>0</td>\n",
       "      <td>0</td>\n",
       "      <td>0</td>\n",
       "      <td>0</td>\n",
       "      <td>0</td>\n",
       "      <td>0</td>\n",
       "      <td>LOT</td>\n",
       "      <td>Placer County</td>\n",
       "    </tr>\n",
       "    <tr>\n",
       "      <th>1</th>\n",
       "      <td>94564-18496265</td>\n",
       "      <td>9</td>\n",
       "      <td>189</td>\n",
       "      <td>36958</td>\n",
       "      <td>USA</td>\n",
       "      <td>2021-07-12</td>\n",
       "      <td>0</td>\n",
       "      <td>0</td>\n",
       "      <td>Listed for sale</td>\n",
       "      <td>1.626048e+12</td>\n",
       "      <td>...</td>\n",
       "      <td>1</td>\n",
       "      <td>2.0</td>\n",
       "      <td>1</td>\n",
       "      <td>One Story</td>\n",
       "      <td>0</td>\n",
       "      <td>0</td>\n",
       "      <td>0</td>\n",
       "      <td>0</td>\n",
       "      <td>SINGLE_FAMILY</td>\n",
       "      <td>Contra Costa County</td>\n",
       "    </tr>\n",
       "    <tr>\n",
       "      <th>2</th>\n",
       "      <td>94564-18484475</td>\n",
       "      <td>9</td>\n",
       "      <td>190</td>\n",
       "      <td>36958</td>\n",
       "      <td>USA</td>\n",
       "      <td>2021-07-08</td>\n",
       "      <td>0</td>\n",
       "      <td>0</td>\n",
       "      <td>Listed for sale</td>\n",
       "      <td>1.625702e+12</td>\n",
       "      <td>...</td>\n",
       "      <td>1</td>\n",
       "      <td>2.0</td>\n",
       "      <td>1</td>\n",
       "      <td>One Story</td>\n",
       "      <td>0</td>\n",
       "      <td>0</td>\n",
       "      <td>0</td>\n",
       "      <td>0</td>\n",
       "      <td>SINGLE_FAMILY</td>\n",
       "      <td>Contra Costa County</td>\n",
       "    </tr>\n",
       "    <tr>\n",
       "      <th>3</th>\n",
       "      <td>94564-18494835</td>\n",
       "      <td>9</td>\n",
       "      <td>191</td>\n",
       "      <td>36958</td>\n",
       "      <td>USA</td>\n",
       "      <td>2021-07-07</td>\n",
       "      <td>0</td>\n",
       "      <td>0</td>\n",
       "      <td>Listed for sale</td>\n",
       "      <td>1.625616e+12</td>\n",
       "      <td>...</td>\n",
       "      <td>1</td>\n",
       "      <td>1.0</td>\n",
       "      <td>1</td>\n",
       "      <td>Two Story</td>\n",
       "      <td>0</td>\n",
       "      <td>1</td>\n",
       "      <td>0</td>\n",
       "      <td>0</td>\n",
       "      <td>SINGLE_FAMILY</td>\n",
       "      <td>Contra Costa County</td>\n",
       "    </tr>\n",
       "    <tr>\n",
       "      <th>4</th>\n",
       "      <td>94564-2069722747</td>\n",
       "      <td>9</td>\n",
       "      <td>192</td>\n",
       "      <td>36958</td>\n",
       "      <td>USA</td>\n",
       "      <td>2021-07-07</td>\n",
       "      <td>0</td>\n",
       "      <td>0</td>\n",
       "      <td>Listed for sale</td>\n",
       "      <td>1.625616e+12</td>\n",
       "      <td>...</td>\n",
       "      <td>0</td>\n",
       "      <td>0.0</td>\n",
       "      <td>0</td>\n",
       "      <td>0</td>\n",
       "      <td>0</td>\n",
       "      <td>0</td>\n",
       "      <td>0</td>\n",
       "      <td>0</td>\n",
       "      <td>LOT</td>\n",
       "      <td>Contra Costa County</td>\n",
       "    </tr>\n",
       "  </tbody>\n",
       "</table>\n",
       "<p>5 rows × 38 columns</p>\n",
       "</div>"
      ],
      "text/plain": [
       "                 id  stateId  countyId  cityId country datePostedString  \\\n",
       "0  95717-2087851113        9        77   24895     USA       2021-01-13   \n",
       "1    94564-18496265        9       189   36958     USA       2021-07-12   \n",
       "2    94564-18484475        9       190   36958     USA       2021-07-08   \n",
       "3    94564-18494835        9       191   36958     USA       2021-07-07   \n",
       "4  94564-2069722747        9       192   36958     USA       2021-07-07   \n",
       "\n",
       "   is_bankOwned  is_forAuction            event          time  ...  parking  \\\n",
       "0             0              0  Listed for sale  1.610496e+12  ...        0   \n",
       "1             0              0  Listed for sale  1.626048e+12  ...        1   \n",
       "2             0              0  Listed for sale  1.625702e+12  ...        1   \n",
       "3             0              0  Listed for sale  1.625616e+12  ...        1   \n",
       "4             0              0  Listed for sale  1.625616e+12  ...        0   \n",
       "\n",
       "   garageSpaces hasGarage     levels  pool spa  isNewConstruction  \\\n",
       "0           0.0         0          0     0   0                  0   \n",
       "1           2.0         1  One Story     0   0                  0   \n",
       "2           2.0         1  One Story     0   0                  0   \n",
       "3           1.0         1  Two Story     0   1                  0   \n",
       "4           0.0         0          0     0   0                  0   \n",
       "\n",
       "   hasPetsAllowed       homeType               county  \n",
       "0               0            LOT        Placer County  \n",
       "1               0  SINGLE_FAMILY  Contra Costa County  \n",
       "2               0  SINGLE_FAMILY  Contra Costa County  \n",
       "3               0  SINGLE_FAMILY  Contra Costa County  \n",
       "4               0            LOT  Contra Costa County  \n",
       "\n",
       "[5 rows x 38 columns]"
      ]
     },
     "execution_count": 22,
     "metadata": {},
     "output_type": "execute_result"
    }
   ],
   "source": [
    "df = pd.read_csv('data/RealEstate_California.csv', index_col=0) #loading the data\n",
    "df.head() #viewing the first five rows of data"
   ]
  },
  {
   "cell_type": "code",
   "execution_count": 23,
   "metadata": {},
   "outputs": [
    {
     "name": "stdout",
     "output_type": "stream",
     "text": [
      "<class 'pandas.core.frame.DataFrame'>\n",
      "Int64Index: 35389 entries, 0 to 35388\n",
      "Data columns (total 38 columns):\n",
      " #   Column              Non-Null Count  Dtype  \n",
      "---  ------              --------------  -----  \n",
      " 0   id                  35389 non-null  object \n",
      " 1   stateId             35389 non-null  int64  \n",
      " 2   countyId            35389 non-null  int64  \n",
      " 3   cityId              35389 non-null  int64  \n",
      " 4   country             35389 non-null  object \n",
      " 5   datePostedString    35386 non-null  object \n",
      " 6   is_bankOwned        35389 non-null  int64  \n",
      " 7   is_forAuction       35389 non-null  int64  \n",
      " 8   event               35389 non-null  object \n",
      " 9   time                35100 non-null  float64\n",
      " 10  price               35389 non-null  float64\n",
      " 11  pricePerSquareFoot  35389 non-null  float64\n",
      " 12  city                35389 non-null  object \n",
      " 13  state               35389 non-null  object \n",
      " 14  yearBuilt           35389 non-null  int64  \n",
      " 15  streetAddress       35389 non-null  object \n",
      " 16  zipcode             35364 non-null  float64\n",
      " 17  longitude           35389 non-null  float64\n",
      " 18  latitude            35389 non-null  float64\n",
      " 19  hasBadGeocode       35389 non-null  int64  \n",
      " 20  description         35110 non-null  object \n",
      " 21  currency            35389 non-null  object \n",
      " 22  livingArea          35389 non-null  float64\n",
      " 23  livingAreaValue     35389 non-null  float64\n",
      " 24  lotAreaUnits        35389 non-null  object \n",
      " 25  bathrooms           35389 non-null  float64\n",
      " 26  bedrooms            35389 non-null  float64\n",
      " 27  buildingArea        35389 non-null  float64\n",
      " 28  parking             35389 non-null  int64  \n",
      " 29  garageSpaces        35389 non-null  float64\n",
      " 30  hasGarage           35389 non-null  int64  \n",
      " 31  levels              35389 non-null  object \n",
      " 32  pool                35389 non-null  int64  \n",
      " 33  spa                 35389 non-null  int64  \n",
      " 34  isNewConstruction   35389 non-null  int64  \n",
      " 35  hasPetsAllowed      35389 non-null  int64  \n",
      " 36  homeType            35389 non-null  object \n",
      " 37  county              35389 non-null  object \n",
      "dtypes: float64(12), int64(13), object(13)\n",
      "memory usage: 10.5+ MB\n"
     ]
    }
   ],
   "source": [
    "df.info() #looking at the overall columns/features"
   ]
  },
  {
   "cell_type": "code",
   "execution_count": 24,
   "metadata": {},
   "outputs": [
    {
     "data": {
      "text/plain": [
       "id                      0\n",
       "stateId                 0\n",
       "countyId                0\n",
       "cityId                  0\n",
       "country                 0\n",
       "datePostedString        3\n",
       "is_bankOwned            0\n",
       "is_forAuction           0\n",
       "event                   0\n",
       "time                  289\n",
       "price                   0\n",
       "pricePerSquareFoot      0\n",
       "city                    0\n",
       "state                   0\n",
       "yearBuilt               0\n",
       "streetAddress           0\n",
       "zipcode                25\n",
       "longitude               0\n",
       "latitude                0\n",
       "hasBadGeocode           0\n",
       "description           279\n",
       "currency                0\n",
       "livingArea              0\n",
       "livingAreaValue         0\n",
       "lotAreaUnits            0\n",
       "bathrooms               0\n",
       "bedrooms                0\n",
       "buildingArea            0\n",
       "parking                 0\n",
       "garageSpaces            0\n",
       "hasGarage               0\n",
       "levels                  0\n",
       "pool                    0\n",
       "spa                     0\n",
       "isNewConstruction       0\n",
       "hasPetsAllowed          0\n",
       "homeType                0\n",
       "county                  0\n",
       "dtype: int64"
      ]
     },
     "execution_count": 24,
     "metadata": {},
     "output_type": "execute_result"
    }
   ],
   "source": [
    "df.isna().sum() #checking for null values"
   ]
  },
  {
   "cell_type": "code",
   "execution_count": 25,
   "metadata": {},
   "outputs": [],
   "source": [
    "df.dropna(inplace=True) #dropping null values since there aren't too many when looking at the overall dataset"
   ]
  },
  {
   "cell_type": "code",
   "execution_count": 26,
   "metadata": {},
   "outputs": [
    {
     "data": {
      "text/plain": [
       "id                    0\n",
       "stateId               0\n",
       "countyId              0\n",
       "cityId                0\n",
       "country               0\n",
       "datePostedString      0\n",
       "is_bankOwned          0\n",
       "is_forAuction         0\n",
       "event                 0\n",
       "time                  0\n",
       "price                 0\n",
       "pricePerSquareFoot    0\n",
       "city                  0\n",
       "state                 0\n",
       "yearBuilt             0\n",
       "streetAddress         0\n",
       "zipcode               0\n",
       "longitude             0\n",
       "latitude              0\n",
       "hasBadGeocode         0\n",
       "description           0\n",
       "currency              0\n",
       "livingArea            0\n",
       "livingAreaValue       0\n",
       "lotAreaUnits          0\n",
       "bathrooms             0\n",
       "bedrooms              0\n",
       "buildingArea          0\n",
       "parking               0\n",
       "garageSpaces          0\n",
       "hasGarage             0\n",
       "levels                0\n",
       "pool                  0\n",
       "spa                   0\n",
       "isNewConstruction     0\n",
       "hasPetsAllowed        0\n",
       "homeType              0\n",
       "county                0\n",
       "dtype: int64"
      ]
     },
     "execution_count": 26,
     "metadata": {},
     "output_type": "execute_result"
    }
   ],
   "source": [
    "df.isna().sum() #verifying there's no more nulls"
   ]
  },
  {
   "cell_type": "code",
   "execution_count": 27,
   "metadata": {},
   "outputs": [
    {
     "name": "stdout",
     "output_type": "stream",
     "text": [
      "There are 0 duplicated values\n"
     ]
    }
   ],
   "source": [
    "print(f'There are {df.duplicated().sum()} duplicated values') #checking for any duplicated values"
   ]
  },
  {
   "cell_type": "code",
   "execution_count": 33,
   "metadata": {},
   "outputs": [
    {
     "data": {
      "text/plain": [
       "(array([3.4464e+04, 2.3300e+02, 6.3000e+01, 2.6000e+01, 1.1000e+01,\n",
       "        5.0000e+00, 5.0000e+00, 4.0000e+00, 2.0000e+00, 2.0000e+00]),\n",
       " array([       0.,  9500000., 19000000., 28500000., 38000000., 47500000.,\n",
       "        57000000., 66500000., 76000000., 85500000., 95000000.]),\n",
       " <BarContainer object of 10 artists>)"
      ]
     },
     "execution_count": 33,
     "metadata": {},
     "output_type": "execute_result"
    },
    {
     "data": {
      "image/png": "[encoded data removed]",
      "text/plain": [
       "<Figure size 1080x576 with 1 Axes>"
      ]
     },
     "metadata": {
      "needs_background": "light"
     },
     "output_type": "display_data"
    }
   ],
   "source": [
    "fig, ax = plt.subplots(figsize=(15, 8))\n",
    "ax.hist(df['price'])\n"
   ]
  },
  {
   "cell_type": "code",
   "execution_count": null,
   "metadata": {},
   "outputs": [],
   "source": []
  }
 ],
 "metadata": {
  "kernelspec": {
   "display_name": "Python (learn-env)",
   "language": "python",
   "name": "learn-env"
  },
  "language_info": {
   "codemirror_mode": {
    "name": "ipython",
    "version": 3
   },
   "file_extension": ".py",
   "mimetype": "text/x-python",
   "name": "python",
   "nbconvert_exporter": "python",
   "pygments_lexer": "ipython3",
   "version": "3.8.5"
  }
 },
 "nbformat": 4,
 "nbformat_minor": 4
}
