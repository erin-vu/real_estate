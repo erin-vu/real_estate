{
 "cells": [
  {
   "cell_type": "markdown",
   "metadata": {},
   "source": [
    "# Real Estate Analysis"
   ]
  },
  {
   "cell_type": "markdown",
   "metadata": {},
   "source": [
    "## Overview\n",
    "\n",
    "This project is an analysis of real estate within California. The goal of the project is to be able to predict sale price based on the features of the house. "
   ]
  },
  {
   "cell_type": "markdown",
   "metadata": {},
   "source": [
    "## Business Problem\n",
    "\n",
    "The business problem for this project is to accurately price houses for sale according to the features of the house. "
   ]
  },
  {
   "cell_type": "markdown",
   "metadata": {},
   "source": [
    "## Data Understanding\n",
    "\n",
    "The California Real Estate dataset from Kaggle has around 35,000 records of houses within the state. There are a total of 38 columns and include data such as location, size, and amenities. "
   ]
  },
  {
   "cell_type": "code",
   "execution_count": 103,
   "metadata": {},
   "outputs": [],
   "source": [
    "#Importing the necessary libraries\n",
    "import pandas as pd\n",
    "import numpy as np\n",
    "import matplotlib.pyplot as plt\n",
    "%matplotlib inline\n",
    "import seaborn as sns\n"
   ]
  },
  {
   "cell_type": "code",
   "execution_count": 104,
   "metadata": {},
   "outputs": [
    {
     "data": {
      "text/html": [
       "<div>\n",
       "<style scoped>\n",
       "    .dataframe tbody tr th:only-of-type {\n",
       "        vertical-align: middle;\n",
       "    }\n",
       "\n",
       "    .dataframe tbody tr th {\n",
       "        vertical-align: top;\n",
       "    }\n",
       "\n",
       "    .dataframe thead th {\n",
       "        text-align: right;\n",
       "    }\n",
       "</style>\n",
       "<table border=\"1\" class=\"dataframe\">\n",
       "  <thead>\n",
       "    <tr style=\"text-align: right;\">\n",
       "      <th></th>\n",
       "      <th>id</th>\n",
       "      <th>stateId</th>\n",
       "      <th>countyId</th>\n",
       "      <th>cityId</th>\n",
       "      <th>country</th>\n",
       "      <th>datePostedString</th>\n",
       "      <th>is_bankOwned</th>\n",
       "      <th>is_forAuction</th>\n",
       "      <th>event</th>\n",
       "      <th>time</th>\n",
       "      <th>...</th>\n",
       "      <th>parking</th>\n",
       "      <th>garageSpaces</th>\n",
       "      <th>hasGarage</th>\n",
       "      <th>levels</th>\n",
       "      <th>pool</th>\n",
       "      <th>spa</th>\n",
       "      <th>isNewConstruction</th>\n",
       "      <th>hasPetsAllowed</th>\n",
       "      <th>homeType</th>\n",
       "      <th>county</th>\n",
       "    </tr>\n",
       "  </thead>\n",
       "  <tbody>\n",
       "    <tr>\n",
       "      <th>0</th>\n",
       "      <td>95717-2087851113</td>\n",
       "      <td>9</td>\n",
       "      <td>77</td>\n",
       "      <td>24895</td>\n",
       "      <td>USA</td>\n",
       "      <td>2021-01-13</td>\n",
       "      <td>0</td>\n",
       "      <td>0</td>\n",
       "      <td>Listed for sale</td>\n",
       "      <td>1.610496e+12</td>\n",
       "      <td>...</td>\n",
       "      <td>0</td>\n",
       "      <td>0.0</td>\n",
       "      <td>0</td>\n",
       "      <td>0</td>\n",
       "      <td>0</td>\n",
       "      <td>0</td>\n",
       "      <td>0</td>\n",
       "      <td>0</td>\n",
       "      <td>LOT</td>\n",
       "      <td>Placer County</td>\n",
       "    </tr>\n",
       "    <tr>\n",
       "      <th>1</th>\n",
       "      <td>94564-18496265</td>\n",
       "      <td>9</td>\n",
       "      <td>189</td>\n",
       "      <td>36958</td>\n",
       "      <td>USA</td>\n",
       "      <td>2021-07-12</td>\n",
       "      <td>0</td>\n",
       "      <td>0</td>\n",
       "      <td>Listed for sale</td>\n",
       "      <td>1.626048e+12</td>\n",
       "      <td>...</td>\n",
       "      <td>1</td>\n",
       "      <td>2.0</td>\n",
       "      <td>1</td>\n",
       "      <td>One Story</td>\n",
       "      <td>0</td>\n",
       "      <td>0</td>\n",
       "      <td>0</td>\n",
       "      <td>0</td>\n",
       "      <td>SINGLE_FAMILY</td>\n",
       "      <td>Contra Costa County</td>\n",
       "    </tr>\n",
       "    <tr>\n",
       "      <th>2</th>\n",
       "      <td>94564-18484475</td>\n",
       "      <td>9</td>\n",
       "      <td>190</td>\n",
       "      <td>36958</td>\n",
       "      <td>USA</td>\n",
       "      <td>2021-07-08</td>\n",
       "      <td>0</td>\n",
       "      <td>0</td>\n",
       "      <td>Listed for sale</td>\n",
       "      <td>1.625702e+12</td>\n",
       "      <td>...</td>\n",
       "      <td>1</td>\n",
       "      <td>2.0</td>\n",
       "      <td>1</td>\n",
       "      <td>One Story</td>\n",
       "      <td>0</td>\n",
       "      <td>0</td>\n",
       "      <td>0</td>\n",
       "      <td>0</td>\n",
       "      <td>SINGLE_FAMILY</td>\n",
       "      <td>Contra Costa County</td>\n",
       "    </tr>\n",
       "    <tr>\n",
       "      <th>3</th>\n",
       "      <td>94564-18494835</td>\n",
       "      <td>9</td>\n",
       "      <td>191</td>\n",
       "      <td>36958</td>\n",
       "      <td>USA</td>\n",
       "      <td>2021-07-07</td>\n",
       "      <td>0</td>\n",
       "      <td>0</td>\n",
       "      <td>Listed for sale</td>\n",
       "      <td>1.625616e+12</td>\n",
       "      <td>...</td>\n",
       "      <td>1</td>\n",
       "      <td>1.0</td>\n",
       "      <td>1</td>\n",
       "      <td>Two Story</td>\n",
       "      <td>0</td>\n",
       "      <td>1</td>\n",
       "      <td>0</td>\n",
       "      <td>0</td>\n",
       "      <td>SINGLE_FAMILY</td>\n",
       "      <td>Contra Costa County</td>\n",
       "    </tr>\n",
       "    <tr>\n",
       "      <th>4</th>\n",
       "      <td>94564-2069722747</td>\n",
       "      <td>9</td>\n",
       "      <td>192</td>\n",
       "      <td>36958</td>\n",
       "      <td>USA</td>\n",
       "      <td>2021-07-07</td>\n",
       "      <td>0</td>\n",
       "      <td>0</td>\n",
       "      <td>Listed for sale</td>\n",
       "      <td>1.625616e+12</td>\n",
       "      <td>...</td>\n",
       "      <td>0</td>\n",
       "      <td>0.0</td>\n",
       "      <td>0</td>\n",
       "      <td>0</td>\n",
       "      <td>0</td>\n",
       "      <td>0</td>\n",
       "      <td>0</td>\n",
       "      <td>0</td>\n",
       "      <td>LOT</td>\n",
       "      <td>Contra Costa County</td>\n",
       "    </tr>\n",
       "  </tbody>\n",
       "</table>\n",
       "<p>5 rows × 38 columns</p>\n",
       "</div>"
      ],
      "text/plain": [
       "                 id  stateId  countyId  cityId country datePostedString  \\\n",
       "0  95717-2087851113        9        77   24895     USA       2021-01-13   \n",
       "1    94564-18496265        9       189   36958     USA       2021-07-12   \n",
       "2    94564-18484475        9       190   36958     USA       2021-07-08   \n",
       "3    94564-18494835        9       191   36958     USA       2021-07-07   \n",
       "4  94564-2069722747        9       192   36958     USA       2021-07-07   \n",
       "\n",
       "   is_bankOwned  is_forAuction            event          time  ...  parking  \\\n",
       "0             0              0  Listed for sale  1.610496e+12  ...        0   \n",
       "1             0              0  Listed for sale  1.626048e+12  ...        1   \n",
       "2             0              0  Listed for sale  1.625702e+12  ...        1   \n",
       "3             0              0  Listed for sale  1.625616e+12  ...        1   \n",
       "4             0              0  Listed for sale  1.625616e+12  ...        0   \n",
       "\n",
       "   garageSpaces hasGarage     levels  pool spa  isNewConstruction  \\\n",
       "0           0.0         0          0     0   0                  0   \n",
       "1           2.0         1  One Story     0   0                  0   \n",
       "2           2.0         1  One Story     0   0                  0   \n",
       "3           1.0         1  Two Story     0   1                  0   \n",
       "4           0.0         0          0     0   0                  0   \n",
       "\n",
       "   hasPetsAllowed       homeType               county  \n",
       "0               0            LOT        Placer County  \n",
       "1               0  SINGLE_FAMILY  Contra Costa County  \n",
       "2               0  SINGLE_FAMILY  Contra Costa County  \n",
       "3               0  SINGLE_FAMILY  Contra Costa County  \n",
       "4               0            LOT  Contra Costa County  \n",
       "\n",
       "[5 rows x 38 columns]"
      ]
     },
     "execution_count": 104,
     "metadata": {},
     "output_type": "execute_result"
    }
   ],
   "source": [
    "df = pd.read_csv('data/RealEstate_California.csv', index_col=0) #loading the data\n",
    "df.head() #Viewing the first five rows of data"
   ]
  },
  {
   "cell_type": "code",
   "execution_count": 67,
   "metadata": {},
   "outputs": [],
   "source": [
    "df.drop(['id', 'stateId', 'country', 'cityId', 'countyId', 'time'], axis=1, inplace=True) \n",
    "#Dropping variables without predictor value or redundant"
   ]
  },
  {
   "cell_type": "code",
   "execution_count": 68,
   "metadata": {},
   "outputs": [
    {
     "name": "stdout",
     "output_type": "stream",
     "text": [
      "<class 'pandas.core.frame.DataFrame'>\n",
      "Int64Index: 35389 entries, 0 to 35388\n",
      "Data columns (total 32 columns):\n",
      " #   Column              Non-Null Count  Dtype  \n",
      "---  ------              --------------  -----  \n",
      " 0   datePostedString    35386 non-null  object \n",
      " 1   is_bankOwned        35389 non-null  int64  \n",
      " 2   is_forAuction       35389 non-null  int64  \n",
      " 3   event               35389 non-null  object \n",
      " 4   price               35389 non-null  float64\n",
      " 5   pricePerSquareFoot  35389 non-null  float64\n",
      " 6   city                35389 non-null  object \n",
      " 7   state               35389 non-null  object \n",
      " 8   yearBuilt           35389 non-null  int64  \n",
      " 9   streetAddress       35389 non-null  object \n",
      " 10  zipcode             35364 non-null  float64\n",
      " 11  longitude           35389 non-null  float64\n",
      " 12  latitude            35389 non-null  float64\n",
      " 13  hasBadGeocode       35389 non-null  int64  \n",
      " 14  description         35110 non-null  object \n",
      " 15  currency            35389 non-null  object \n",
      " 16  livingArea          35389 non-null  float64\n",
      " 17  livingAreaValue     35389 non-null  float64\n",
      " 18  lotAreaUnits        35389 non-null  object \n",
      " 19  bathrooms           35389 non-null  float64\n",
      " 20  bedrooms            35389 non-null  float64\n",
      " 21  buildingArea        35389 non-null  float64\n",
      " 22  parking             35389 non-null  int64  \n",
      " 23  garageSpaces        35389 non-null  float64\n",
      " 24  hasGarage           35389 non-null  int64  \n",
      " 25  levels              35389 non-null  object \n",
      " 26  pool                35389 non-null  int64  \n",
      " 27  spa                 35389 non-null  int64  \n",
      " 28  isNewConstruction   35389 non-null  int64  \n",
      " 29  hasPetsAllowed      35389 non-null  int64  \n",
      " 30  homeType            35389 non-null  object \n",
      " 31  county              35389 non-null  object \n",
      "dtypes: float64(11), int64(10), object(11)\n",
      "memory usage: 8.9+ MB\n"
     ]
    }
   ],
   "source": [
    "df.info() #looking at the overall columns/features"
   ]
  },
  {
   "cell_type": "code",
   "execution_count": 69,
   "metadata": {},
   "outputs": [
    {
     "data": {
      "text/plain": [
       "datePostedString        3\n",
       "is_bankOwned            0\n",
       "is_forAuction           0\n",
       "event                   0\n",
       "price                   0\n",
       "pricePerSquareFoot      0\n",
       "city                    0\n",
       "state                   0\n",
       "yearBuilt               0\n",
       "streetAddress           0\n",
       "zipcode                25\n",
       "longitude               0\n",
       "latitude                0\n",
       "hasBadGeocode           0\n",
       "description           279\n",
       "currency                0\n",
       "livingArea              0\n",
       "livingAreaValue         0\n",
       "lotAreaUnits            0\n",
       "bathrooms               0\n",
       "bedrooms                0\n",
       "buildingArea            0\n",
       "parking                 0\n",
       "garageSpaces            0\n",
       "hasGarage               0\n",
       "levels                  0\n",
       "pool                    0\n",
       "spa                     0\n",
       "isNewConstruction       0\n",
       "hasPetsAllowed          0\n",
       "homeType                0\n",
       "county                  0\n",
       "dtype: int64"
      ]
     },
     "execution_count": 69,
     "metadata": {},
     "output_type": "execute_result"
    }
   ],
   "source": [
    "df.isna().sum() #checking for null values"
   ]
  },
  {
   "cell_type": "code",
   "execution_count": 70,
   "metadata": {},
   "outputs": [],
   "source": [
    "df.dropna(inplace=True) #dropping null values since there aren't too many when looking at the overall dataset"
   ]
  },
  {
   "cell_type": "code",
   "execution_count": 71,
   "metadata": {},
   "outputs": [
    {
     "data": {
      "text/plain": [
       "datePostedString      0\n",
       "is_bankOwned          0\n",
       "is_forAuction         0\n",
       "event                 0\n",
       "price                 0\n",
       "pricePerSquareFoot    0\n",
       "city                  0\n",
       "state                 0\n",
       "yearBuilt             0\n",
       "streetAddress         0\n",
       "zipcode               0\n",
       "longitude             0\n",
       "latitude              0\n",
       "hasBadGeocode         0\n",
       "description           0\n",
       "currency              0\n",
       "livingArea            0\n",
       "livingAreaValue       0\n",
       "lotAreaUnits          0\n",
       "bathrooms             0\n",
       "bedrooms              0\n",
       "buildingArea          0\n",
       "parking               0\n",
       "garageSpaces          0\n",
       "hasGarage             0\n",
       "levels                0\n",
       "pool                  0\n",
       "spa                   0\n",
       "isNewConstruction     0\n",
       "hasPetsAllowed        0\n",
       "homeType              0\n",
       "county                0\n",
       "dtype: int64"
      ]
     },
     "execution_count": 71,
     "metadata": {},
     "output_type": "execute_result"
    }
   ],
   "source": [
    "df.isna().sum() #verifying there's no more nulls"
   ]
  },
  {
   "cell_type": "code",
   "execution_count": 72,
   "metadata": {},
   "outputs": [
    {
     "name": "stdout",
     "output_type": "stream",
     "text": [
      "There are 3983 duplicated values\n"
     ]
    }
   ],
   "source": [
    "print(f'There are {df.duplicated().sum()} duplicated values') #Checking for any duplicated values"
   ]
  },
  {
   "cell_type": "code",
   "execution_count": 73,
   "metadata": {},
   "outputs": [
    {
     "name": "stdout",
     "output_type": "stream",
     "text": [
      "There are 0 duplicated values\n"
     ]
    }
   ],
   "source": [
    "df.drop_duplicates(keep='first', inplace=True)\n",
    "print(f'There are {df.duplicated().sum()} duplicated values') #Verifying duplicated values have been dropped"
   ]
  },
  {
   "cell_type": "code",
   "execution_count": 74,
   "metadata": {},
   "outputs": [],
   "source": [
    "df['year'] = pd.to_datetime(df['datePostedString']) #Converting date posted to year to observe yearly trends\n",
    "df['year'] = df['year'].dt.year\n",
    "df.drop(['datePostedString'], inplace=True, axis=1) #Dropping original date posted column"
   ]
  },
  {
   "cell_type": "code",
   "execution_count": 85,
   "metadata": {},
   "outputs": [],
   "source": [
    "def feature_corr(feature):\n",
    "    feature_corr = df['price'].corr(df[feature])\n",
    "    return print(f'{feature.title()} correlation with popularity is {feature_corr}')\n",
    "\n",
    "def feature_analysis(feature):\n",
    "    '''Creates distplot and graph of feature and mean of price along with correlation and value counts'''\n",
    "    \n",
    "    feature_corr(feature)\n",
    "    \n",
    "    print(df[feature].value_counts(normalize=True))\n",
    "    \n",
    "    fig, ax = plt.subplots(figsize=(15,8))\n",
    "    sns.distplot(df[feature], ax=ax)\n",
    "    ax.set_title(f'{feature.title()} Distribution', fontsize=16)\n",
    "    ax.set_xlabel(f'{feature.title()}', fontsize=14)\n",
    "    ax.set_ylabel('Density', fontsize=14)\n",
    "    \n",
    "    print(df[feature].describe())\n",
    "    \n",
    "    feature_price_mean = df.groupby(feature)['price'].mean()\n",
    "    \n",
    "    fig, ax = plt.subplots(figsize=(15,8))\n",
    "    ax.scatter(feature_price_mean.index, feature_price_mean.values, alpha=.3)\n",
    "    ax.set_title(f'{feature.title()} vs Mean Price', fontsize=16)\n",
    "    ax.set_xlabel(f'{feature.title()}', fontsize=14)\n",
    "    ax.set_ylabel('Mean Price', fontsize=14)\n",
    "    return plt.show();"
   ]
  },
  {
   "cell_type": "code",
   "execution_count": 86,
   "metadata": {},
   "outputs": [
    {
     "name": "stdout",
     "output_type": "stream",
     "text": [
      "Bathrooms correlation with popularity is 0.1350824974199909\n",
      "2.0    0.308115\n",
      "0.0    0.250149\n",
      "3.0    0.239815\n",
      "1.0    0.104372\n",
      "4.0    0.067970\n",
      "5.0    0.029579\n",
      "Name: bathrooms, dtype: float64\n",
      "count    30190.000000\n",
      "mean         1.859821\n",
      "std          1.365023\n",
      "min          0.000000\n",
      "25%          0.000000\n",
      "50%          2.000000\n",
      "75%          3.000000\n",
      "max          5.000000\n",
      "Name: bathrooms, dtype: float64\n"
     ]
    },
    {
     "name": "stderr",
     "output_type": "stream",
     "text": [
      "C:\\Users\\erinv\\anaconda3\\envs\\learn-env\\lib\\site-packages\\seaborn\\distributions.py:2551: FutureWarning: `distplot` is a deprecated function and will be removed in a future version. Please adapt your code to use either `displot` (a figure-level function with similar flexibility) or `histplot` (an axes-level function for histograms).\n",
      "  warnings.warn(msg, FutureWarning)\n"
     ]
    },
    {
     "data": {
      "image/png": "[encoded data removed]",
      "text/plain": [
       "<Figure size 1080x576 with 1 Axes>"
      ]
     },
     "metadata": {
      "needs_background": "light"
     },
     "output_type": "display_data"
    },
    {
     "data": {
      "image/png": "[encoded data removed]",
      "text/plain": [
       "<Figure size 1080x576 with 1 Axes>"
      ]
     },
     "metadata": {
      "needs_background": "light"
     },
     "output_type": "display_data"
    }
   ],
   "source": [
    "feature_analysis('bathrooms')"
   ]
  },
  {
   "cell_type": "code",
   "execution_count": 89,
   "metadata": {},
   "outputs": [
    {
     "data": {
      "text/plain": [
       "2.0    9302\n",
       "3.0    7240\n",
       "1.0    3151\n",
       "4.0    2052\n",
       "5.0     893\n",
       "Name: bathrooms, dtype: int64"
      ]
     },
     "execution_count": 89,
     "metadata": {},
     "output_type": "execute_result"
    }
   ],
   "source": [
    "df = df[(df['bathrooms'] <= 5) & (df['bathrooms'] != 0)] #Filtering out bathrooms greater than 5 and not 0 for standard homes\n",
    "df['bathrooms'].value_counts()"
   ]
  },
  {
   "cell_type": "code",
   "execution_count": 90,
   "metadata": {},
   "outputs": [
    {
     "name": "stdout",
     "output_type": "stream",
     "text": [
      "Bathrooms correlation with popularity is 0.39685649908810783\n",
      "2.0    0.410902\n",
      "3.0    0.319816\n",
      "1.0    0.139191\n",
      "4.0    0.090644\n",
      "5.0    0.039447\n",
      "Name: bathrooms, dtype: float64\n",
      "count    22638.000000\n",
      "mean         2.480254\n",
      "std          0.972627\n",
      "min          1.000000\n",
      "25%          2.000000\n",
      "50%          2.000000\n",
      "75%          3.000000\n",
      "max          5.000000\n",
      "Name: bathrooms, dtype: float64\n"
     ]
    },
    {
     "name": "stderr",
     "output_type": "stream",
     "text": [
      "C:\\Users\\erinv\\anaconda3\\envs\\learn-env\\lib\\site-packages\\seaborn\\distributions.py:2551: FutureWarning: `distplot` is a deprecated function and will be removed in a future version. Please adapt your code to use either `displot` (a figure-level function with similar flexibility) or `histplot` (an axes-level function for histograms).\n",
      "  warnings.warn(msg, FutureWarning)\n"
     ]
    },
    {
     "data": {
      "image/png": "[encoded data removed]",
      "text/plain": [
       "<Figure size 1080x576 with 1 Axes>"
      ]
     },
     "metadata": {
      "needs_background": "light"
     },
     "output_type": "display_data"
    },
    {
     "data": {
      "image/png": "[encoded data removed]",
      "text/plain": [
       "<Figure size 1080x576 with 1 Axes>"
      ]
     },
     "metadata": {
      "needs_background": "light"
     },
     "output_type": "display_data"
    }
   ],
   "source": [
    "feature_analysis('bathrooms')"
   ]
  },
  {
   "cell_type": "markdown",
   "metadata": {},
   "source": [
    "#### Target: Popularity Analysis"
   ]
  },
  {
   "cell_type": "code",
   "execution_count": 109,
   "metadata": {},
   "outputs": [
    {
     "data": {
      "text/plain": [
       "count    3.538900e+04\n",
       "mean     1.187889e+06\n",
       "std      2.564884e+06\n",
       "min      0.000000e+00\n",
       "25%      3.999000e+05\n",
       "50%      6.990000e+05\n",
       "75%      1.199888e+06\n",
       "max      9.500000e+07\n",
       "Name: price, dtype: float64"
      ]
     },
     "execution_count": 109,
     "metadata": {},
     "output_type": "execute_result"
    }
   ],
   "source": [
    "df['price'].describe()"
   ]
  },
  {
   "cell_type": "code",
   "execution_count": 115,
   "metadata": {},
   "outputs": [
    {
     "data": {
      "text/plain": [
       "(-95000.001, 11875000.0]    35148\n",
       "(11875000.0, 23750000.0]      155\n",
       "(23750000.0, 35625000.0]       52\n",
       "(35625000.0, 47500000.0]       16\n",
       "(71250000.0, 83125000.0]        5\n",
       "(59375000.0, 71250000.0]        5\n",
       "(47500000.0, 59375000.0]        5\n",
       "(83125000.0, 95000000.0]        3\n",
       "Name: price, dtype: int64"
      ]
     },
     "execution_count": 115,
     "metadata": {},
     "output_type": "execute_result"
    }
   ],
   "source": [
    "df['price'].value_counts(bins=8)"
   ]
  },
  {
   "cell_type": "code",
   "execution_count": 114,
   "metadata": {},
   "outputs": [
    {
     "data": {
      "text/plain": [
       "95000000.0"
      ]
     },
     "execution_count": 114,
     "metadata": {},
     "output_type": "execute_result"
    }
   ],
   "source": [
    "df['price'].max()"
   ]
  },
  {
   "cell_type": "code",
   "execution_count": 92,
   "metadata": {},
   "outputs": [
    {
     "data": {
      "image/png": "[encoded data removed]",
      "text/plain": [
       "<Figure size 1080x576 with 1 Axes>"
      ]
     },
     "metadata": {
      "needs_background": "light"
     },
     "output_type": "display_data"
    }
   ],
   "source": [
    "fig, ax = plt.subplots(figsize=(15, 8))\n",
    "ax.hist(df['price'], bins=50);"
   ]
  },
  {
   "cell_type": "code",
   "execution_count": 93,
   "metadata": {},
   "outputs": [
    {
     "data": {
      "image/png": "[encoded data removed]",
      "text/plain": [
       "<Figure size 1080x576 with 1 Axes>"
      ]
     },
     "metadata": {
      "needs_background": "light"
     },
     "output_type": "display_data"
    }
   ],
   "source": [
    "#Boxplot with outliers\n",
    "fig, ax = plt.subplots(figsize=(15, 8))\n",
    "sns.boxplot(x=df['price'], showmeans=True, meanline=True);"
   ]
  },
  {
   "cell_type": "code",
   "execution_count": 94,
   "metadata": {},
   "outputs": [
    {
     "data": {
      "image/png": "[encoded data removed]",
      "text/plain": [
       "<Figure size 1080x576 with 1 Axes>"
      ]
     },
     "metadata": {
      "needs_background": "light"
     },
     "output_type": "display_data"
    }
   ],
   "source": [
    "#Boxplot without outliers\n",
    "fig, ax = plt.subplots(figsize=(15, 8))\n",
    "sns.boxplot(x=df['price'], showfliers=False);"
   ]
  },
  {
   "cell_type": "code",
   "execution_count": 95,
   "metadata": {},
   "outputs": [
    {
     "data": {
      "image/png": "[encoded data removed]",
      "text/plain": [
       "<Figure size 1008x504 with 1 Axes>"
      ]
     },
     "metadata": {
      "needs_background": "light"
     },
     "output_type": "display_data"
    }
   ],
   "source": [
    "sns.displot(df['price'], height=7, aspect=2);"
   ]
  },
  {
   "cell_type": "code",
   "execution_count": 18,
   "metadata": {},
   "outputs": [
    {
     "data": {
      "text/html": [
       "<div>\n",
       "<style scoped>\n",
       "    .dataframe tbody tr th:only-of-type {\n",
       "        vertical-align: middle;\n",
       "    }\n",
       "\n",
       "    .dataframe tbody tr th {\n",
       "        vertical-align: top;\n",
       "    }\n",
       "\n",
       "    .dataframe thead th {\n",
       "        text-align: right;\n",
       "    }\n",
       "</style>\n",
       "<table border=\"1\" class=\"dataframe\">\n",
       "  <thead>\n",
       "    <tr style=\"text-align: right;\">\n",
       "      <th></th>\n",
       "      <th>price</th>\n",
       "    </tr>\n",
       "  </thead>\n",
       "  <tbody>\n",
       "    <tr>\n",
       "      <th>price</th>\n",
       "      <td>1.000000</td>\n",
       "    </tr>\n",
       "    <tr>\n",
       "      <th>bathrooms</th>\n",
       "      <td>0.358305</td>\n",
       "    </tr>\n",
       "    <tr>\n",
       "      <th>bedrooms</th>\n",
       "      <td>0.182264</td>\n",
       "    </tr>\n",
       "    <tr>\n",
       "      <th>pool</th>\n",
       "      <td>0.158069</td>\n",
       "    </tr>\n",
       "    <tr>\n",
       "      <th>spa</th>\n",
       "      <td>0.114674</td>\n",
       "    </tr>\n",
       "    <tr>\n",
       "      <th>garageSpaces</th>\n",
       "      <td>0.113324</td>\n",
       "    </tr>\n",
       "    <tr>\n",
       "      <th>zipcode</th>\n",
       "      <td>0.079810</td>\n",
       "    </tr>\n",
       "    <tr>\n",
       "      <th>latitude</th>\n",
       "      <td>0.050764</td>\n",
       "    </tr>\n",
       "    <tr>\n",
       "      <th>yearBuilt</th>\n",
       "      <td>0.048952</td>\n",
       "    </tr>\n",
       "    <tr>\n",
       "      <th>hasGarage</th>\n",
       "      <td>0.046116</td>\n",
       "    </tr>\n",
       "    <tr>\n",
       "      <th>isNewConstruction</th>\n",
       "      <td>0.038527</td>\n",
       "    </tr>\n",
       "    <tr>\n",
       "      <th>longitude</th>\n",
       "      <td>0.034774</td>\n",
       "    </tr>\n",
       "    <tr>\n",
       "      <th>buildingArea</th>\n",
       "      <td>0.022399</td>\n",
       "    </tr>\n",
       "    <tr>\n",
       "      <th>is_forAuction</th>\n",
       "      <td>0.015324</td>\n",
       "    </tr>\n",
       "    <tr>\n",
       "      <th>livingArea</th>\n",
       "      <td>0.014275</td>\n",
       "    </tr>\n",
       "    <tr>\n",
       "      <th>livingAreaValue</th>\n",
       "      <td>0.014275</td>\n",
       "    </tr>\n",
       "    <tr>\n",
       "      <th>parking</th>\n",
       "      <td>0.011997</td>\n",
       "    </tr>\n",
       "    <tr>\n",
       "      <th>hasPetsAllowed</th>\n",
       "      <td>0.010987</td>\n",
       "    </tr>\n",
       "    <tr>\n",
       "      <th>pricePerSquareFoot</th>\n",
       "      <td>0.010334</td>\n",
       "    </tr>\n",
       "    <tr>\n",
       "      <th>is_bankOwned</th>\n",
       "      <td>0.004000</td>\n",
       "    </tr>\n",
       "    <tr>\n",
       "      <th>hasBadGeocode</th>\n",
       "      <td>0.003582</td>\n",
       "    </tr>\n",
       "    <tr>\n",
       "      <th>year</th>\n",
       "      <td>0.002481</td>\n",
       "    </tr>\n",
       "  </tbody>\n",
       "</table>\n",
       "</div>"
      ],
      "text/plain": [
       "                       price\n",
       "price               1.000000\n",
       "bathrooms           0.358305\n",
       "bedrooms            0.182264\n",
       "pool                0.158069\n",
       "spa                 0.114674\n",
       "garageSpaces        0.113324\n",
       "zipcode             0.079810\n",
       "latitude            0.050764\n",
       "yearBuilt           0.048952\n",
       "hasGarage           0.046116\n",
       "isNewConstruction   0.038527\n",
       "longitude           0.034774\n",
       "buildingArea        0.022399\n",
       "is_forAuction       0.015324\n",
       "livingArea          0.014275\n",
       "livingAreaValue     0.014275\n",
       "parking             0.011997\n",
       "hasPetsAllowed      0.010987\n",
       "pricePerSquareFoot  0.010334\n",
       "is_bankOwned        0.004000\n",
       "hasBadGeocode       0.003582\n",
       "year                0.002481"
      ]
     },
     "execution_count": 18,
     "metadata": {},
     "output_type": "execute_result"
    }
   ],
   "source": [
    "pop_corr = abs(df.corr()[['price']]).sort_values('price', ascending=False) #Correlation analysis against price\n",
    "pop_corr"
   ]
  },
  {
   "cell_type": "code",
   "execution_count": 17,
   "metadata": {},
   "outputs": [
    {
     "data": {
      "image/png": "[encoded data removed]",
      "text/plain": [
       "<Figure size 1080x576 with 2 Axes>"
      ]
     },
     "metadata": {
      "needs_background": "light"
     },
     "output_type": "display_data"
    }
   ],
   "source": [
    "fig, ax = plt.subplots(figsize=(15, 8))\n",
    "sns.heatmap(pop_corr, ax=ax, annot=True)\n",
    "ax.set_yticklabels(labels=pop_corr.index, fontsize=12);"
   ]
  },
  {
   "cell_type": "markdown",
   "metadata": {},
   "source": [
    "### Feature Exploration"
   ]
  },
  {
   "cell_type": "code",
   "execution_count": 22,
   "metadata": {},
   "outputs": [
    {
     "data": {
      "text/plain": [
       "3.0     9305\n",
       "0.0     7074\n",
       "4.0     6328\n",
       "2.0     4415\n",
       "5.0     2166\n",
       "1.0      778\n",
       "6.0      573\n",
       "7.0      208\n",
       "8.0      127\n",
       "9.0       45\n",
       "10.0      19\n",
       "12.0      18\n",
       "11.0      15\n",
       "13.0       4\n",
       "15.0       3\n",
       "21.0       3\n",
       "18.0       2\n",
       "16.0       2\n",
       "17.0       2\n",
       "14.0       2\n",
       "30.0       1\n",
       "50.0       1\n",
       "32.0       1\n",
       "24.0       1\n",
       "52.0       1\n",
       "82.0       1\n",
       "56.0       1\n",
       "80.0       1\n",
       "29.0       1\n",
       "99.0       1\n",
       "Name: bedrooms, dtype: int64"
      ]
     },
     "execution_count": 22,
     "metadata": {},
     "output_type": "execute_result"
    }
   ],
   "source": [
    "df['bedrooms'].value_counts()"
   ]
  },
  {
   "cell_type": "code",
   "execution_count": 19,
   "metadata": {},
   "outputs": [
    {
     "data": {
      "text/plain": [
       "bedrooms\n",
       "17.0    4.310000e+07\n",
       "52.0    2.900000e+07\n",
       "11.0    9.915067e+06\n",
       "14.0    8.345000e+06\n",
       "82.0    8.000000e+06\n",
       "32.0    7.500000e+06\n",
       "7.0     7.417054e+06\n",
       "50.0    5.500000e+06\n",
       "29.0    5.300000e+06\n",
       "8.0     5.189911e+06\n",
       "12.0    4.755544e+06\n",
       "15.0    4.733333e+06\n",
       "10.0    4.731987e+06\n",
       "21.0    4.632967e+06\n",
       "80.0    4.500000e+06\n",
       "24.0    4.350000e+06\n",
       "6.0     3.707984e+06\n",
       "9.0     3.528562e+06\n",
       "30.0    3.330000e+06\n",
       "56.0    2.950000e+06\n",
       "13.0    2.696250e+06\n",
       "16.0    2.497450e+06\n",
       "5.0     2.281850e+06\n",
       "18.0    2.262500e+06\n",
       "99.0    1.695000e+06\n",
       "4.0     1.303319e+06\n",
       "0.0     1.048681e+06\n",
       "3.0     8.923897e+05\n",
       "2.0     6.998404e+05\n",
       "1.0     5.997829e+05\n",
       "Name: price, dtype: float64"
      ]
     },
     "execution_count": 19,
     "metadata": {},
     "output_type": "execute_result"
    }
   ],
   "source": [
    "avg_price_bed = df.groupby('bedrooms')['price'].mean().sort_values(ascending=False)\n",
    "avg_price_bed"
   ]
  },
  {
   "cell_type": "code",
   "execution_count": null,
   "metadata": {},
   "outputs": [],
   "source": []
  }
 ],
 "metadata": {
  "kernelspec": {
   "display_name": "Python (learn-env)",
   "language": "python",
   "name": "learn-env"
  },
  "language_info": {
   "codemirror_mode": {
    "name": "ipython",
    "version": 3
   },
   "file_extension": ".py",
   "mimetype": "text/x-python",
   "name": "python",
   "nbconvert_exporter": "python",
   "pygments_lexer": "ipython3",
   "version": "3.8.5"
  }
 },
 "nbformat": 4,
 "nbformat_minor": 4
}
