{
 "cells": [
  {
   "cell_type": "markdown",
   "metadata": {},
   "source": [
    "# Real Estate Analysis"
   ]
  },
  {
   "cell_type": "markdown",
   "metadata": {},
   "source": [
    "## Overview\n",
    "\n",
    "This project is an analysis of real estate within California. The goal of the project is to be able to predict sale price based on the features of the house. "
   ]
  },
  {
   "cell_type": "markdown",
   "metadata": {},
   "source": [
    "## Business Problem\n",
    "\n",
    "The business problem for this project is to accurately price houses for sale according to the features of the house. "
   ]
  },
  {
   "cell_type": "markdown",
   "metadata": {},
   "source": [
    "## Data Understanding\n",
    "\n",
    "The California Real Estate dataset from Kaggle has around 35,000 records of houses within the state. There are a total of 38 columns and include data such as location, size, and amenities. "
   ]
  },
  {
   "cell_type": "code",
   "execution_count": 1,
   "metadata": {},
   "outputs": [],
   "source": [
    "#Importing the necessary libraries\n",
    "import pandas as pd\n",
    "import numpy as np\n",
    "import matplotlib.pyplot as plt\n",
    "%matplotlib inline\n",
    "import seaborn as sns\n"
   ]
  },
  {
   "cell_type": "code",
   "execution_count": 2,
   "metadata": {},
   "outputs": [
    {
     "data": {
      "text/html": [
       "<div>\n",
       "<style scoped>\n",
       "    .dataframe tbody tr th:only-of-type {\n",
       "        vertical-align: middle;\n",
       "    }\n",
       "\n",
       "    .dataframe tbody tr th {\n",
       "        vertical-align: top;\n",
       "    }\n",
       "\n",
       "    .dataframe thead th {\n",
       "        text-align: right;\n",
       "    }\n",
       "</style>\n",
       "<table border=\"1\" class=\"dataframe\">\n",
       "  <thead>\n",
       "    <tr style=\"text-align: right;\">\n",
       "      <th></th>\n",
       "      <th>id</th>\n",
       "      <th>stateId</th>\n",
       "      <th>countyId</th>\n",
       "      <th>cityId</th>\n",
       "      <th>country</th>\n",
       "      <th>datePostedString</th>\n",
       "      <th>is_bankOwned</th>\n",
       "      <th>is_forAuction</th>\n",
       "      <th>event</th>\n",
       "      <th>time</th>\n",
       "      <th>...</th>\n",
       "      <th>parking</th>\n",
       "      <th>garageSpaces</th>\n",
       "      <th>hasGarage</th>\n",
       "      <th>levels</th>\n",
       "      <th>pool</th>\n",
       "      <th>spa</th>\n",
       "      <th>isNewConstruction</th>\n",
       "      <th>hasPetsAllowed</th>\n",
       "      <th>homeType</th>\n",
       "      <th>county</th>\n",
       "    </tr>\n",
       "  </thead>\n",
       "  <tbody>\n",
       "    <tr>\n",
       "      <th>0</th>\n",
       "      <td>95717-2087851113</td>\n",
       "      <td>9</td>\n",
       "      <td>77</td>\n",
       "      <td>24895</td>\n",
       "      <td>USA</td>\n",
       "      <td>2021-01-13</td>\n",
       "      <td>0</td>\n",
       "      <td>0</td>\n",
       "      <td>Listed for sale</td>\n",
       "      <td>1.610496e+12</td>\n",
       "      <td>...</td>\n",
       "      <td>0</td>\n",
       "      <td>0.0</td>\n",
       "      <td>0</td>\n",
       "      <td>0</td>\n",
       "      <td>0</td>\n",
       "      <td>0</td>\n",
       "      <td>0</td>\n",
       "      <td>0</td>\n",
       "      <td>LOT</td>\n",
       "      <td>Placer County</td>\n",
       "    </tr>\n",
       "    <tr>\n",
       "      <th>1</th>\n",
       "      <td>94564-18496265</td>\n",
       "      <td>9</td>\n",
       "      <td>189</td>\n",
       "      <td>36958</td>\n",
       "      <td>USA</td>\n",
       "      <td>2021-07-12</td>\n",
       "      <td>0</td>\n",
       "      <td>0</td>\n",
       "      <td>Listed for sale</td>\n",
       "      <td>1.626048e+12</td>\n",
       "      <td>...</td>\n",
       "      <td>1</td>\n",
       "      <td>2.0</td>\n",
       "      <td>1</td>\n",
       "      <td>One Story</td>\n",
       "      <td>0</td>\n",
       "      <td>0</td>\n",
       "      <td>0</td>\n",
       "      <td>0</td>\n",
       "      <td>SINGLE_FAMILY</td>\n",
       "      <td>Contra Costa County</td>\n",
       "    </tr>\n",
       "    <tr>\n",
       "      <th>2</th>\n",
       "      <td>94564-18484475</td>\n",
       "      <td>9</td>\n",
       "      <td>190</td>\n",
       "      <td>36958</td>\n",
       "      <td>USA</td>\n",
       "      <td>2021-07-08</td>\n",
       "      <td>0</td>\n",
       "      <td>0</td>\n",
       "      <td>Listed for sale</td>\n",
       "      <td>1.625702e+12</td>\n",
       "      <td>...</td>\n",
       "      <td>1</td>\n",
       "      <td>2.0</td>\n",
       "      <td>1</td>\n",
       "      <td>One Story</td>\n",
       "      <td>0</td>\n",
       "      <td>0</td>\n",
       "      <td>0</td>\n",
       "      <td>0</td>\n",
       "      <td>SINGLE_FAMILY</td>\n",
       "      <td>Contra Costa County</td>\n",
       "    </tr>\n",
       "    <tr>\n",
       "      <th>3</th>\n",
       "      <td>94564-18494835</td>\n",
       "      <td>9</td>\n",
       "      <td>191</td>\n",
       "      <td>36958</td>\n",
       "      <td>USA</td>\n",
       "      <td>2021-07-07</td>\n",
       "      <td>0</td>\n",
       "      <td>0</td>\n",
       "      <td>Listed for sale</td>\n",
       "      <td>1.625616e+12</td>\n",
       "      <td>...</td>\n",
       "      <td>1</td>\n",
       "      <td>1.0</td>\n",
       "      <td>1</td>\n",
       "      <td>Two Story</td>\n",
       "      <td>0</td>\n",
       "      <td>1</td>\n",
       "      <td>0</td>\n",
       "      <td>0</td>\n",
       "      <td>SINGLE_FAMILY</td>\n",
       "      <td>Contra Costa County</td>\n",
       "    </tr>\n",
       "    <tr>\n",
       "      <th>4</th>\n",
       "      <td>94564-2069722747</td>\n",
       "      <td>9</td>\n",
       "      <td>192</td>\n",
       "      <td>36958</td>\n",
       "      <td>USA</td>\n",
       "      <td>2021-07-07</td>\n",
       "      <td>0</td>\n",
       "      <td>0</td>\n",
       "      <td>Listed for sale</td>\n",
       "      <td>1.625616e+12</td>\n",
       "      <td>...</td>\n",
       "      <td>0</td>\n",
       "      <td>0.0</td>\n",
       "      <td>0</td>\n",
       "      <td>0</td>\n",
       "      <td>0</td>\n",
       "      <td>0</td>\n",
       "      <td>0</td>\n",
       "      <td>0</td>\n",
       "      <td>LOT</td>\n",
       "      <td>Contra Costa County</td>\n",
       "    </tr>\n",
       "  </tbody>\n",
       "</table>\n",
       "<p>5 rows × 38 columns</p>\n",
       "</div>"
      ],
      "text/plain": [
       "                 id  stateId  countyId  cityId country datePostedString  \\\n",
       "0  95717-2087851113        9        77   24895     USA       2021-01-13   \n",
       "1    94564-18496265        9       189   36958     USA       2021-07-12   \n",
       "2    94564-18484475        9       190   36958     USA       2021-07-08   \n",
       "3    94564-18494835        9       191   36958     USA       2021-07-07   \n",
       "4  94564-2069722747        9       192   36958     USA       2021-07-07   \n",
       "\n",
       "   is_bankOwned  is_forAuction            event          time  ...  parking  \\\n",
       "0             0              0  Listed for sale  1.610496e+12  ...        0   \n",
       "1             0              0  Listed for sale  1.626048e+12  ...        1   \n",
       "2             0              0  Listed for sale  1.625702e+12  ...        1   \n",
       "3             0              0  Listed for sale  1.625616e+12  ...        1   \n",
       "4             0              0  Listed for sale  1.625616e+12  ...        0   \n",
       "\n",
       "   garageSpaces hasGarage     levels  pool spa  isNewConstruction  \\\n",
       "0           0.0         0          0     0   0                  0   \n",
       "1           2.0         1  One Story     0   0                  0   \n",
       "2           2.0         1  One Story     0   0                  0   \n",
       "3           1.0         1  Two Story     0   1                  0   \n",
       "4           0.0         0          0     0   0                  0   \n",
       "\n",
       "   hasPetsAllowed       homeType               county  \n",
       "0               0            LOT        Placer County  \n",
       "1               0  SINGLE_FAMILY  Contra Costa County  \n",
       "2               0  SINGLE_FAMILY  Contra Costa County  \n",
       "3               0  SINGLE_FAMILY  Contra Costa County  \n",
       "4               0            LOT  Contra Costa County  \n",
       "\n",
       "[5 rows x 38 columns]"
      ]
     },
     "execution_count": 2,
     "metadata": {},
     "output_type": "execute_result"
    }
   ],
   "source": [
    "df = pd.read_csv('data/RealEstate_California.csv', index_col=0) #loading the data\n",
    "df.head() #Viewing the first five rows of data"
   ]
  },
  {
   "cell_type": "code",
   "execution_count": 3,
   "metadata": {},
   "outputs": [
    {
     "name": "stdout",
     "output_type": "stream",
     "text": [
      "<class 'pandas.core.frame.DataFrame'>\n",
      "Int64Index: 35389 entries, 0 to 35388\n",
      "Data columns (total 38 columns):\n",
      " #   Column              Non-Null Count  Dtype  \n",
      "---  ------              --------------  -----  \n",
      " 0   id                  35389 non-null  object \n",
      " 1   stateId             35389 non-null  int64  \n",
      " 2   countyId            35389 non-null  int64  \n",
      " 3   cityId              35389 non-null  int64  \n",
      " 4   country             35389 non-null  object \n",
      " 5   datePostedString    35386 non-null  object \n",
      " 6   is_bankOwned        35389 non-null  int64  \n",
      " 7   is_forAuction       35389 non-null  int64  \n",
      " 8   event               35389 non-null  object \n",
      " 9   time                35100 non-null  float64\n",
      " 10  price               35389 non-null  float64\n",
      " 11  pricePerSquareFoot  35389 non-null  float64\n",
      " 12  city                35389 non-null  object \n",
      " 13  state               35389 non-null  object \n",
      " 14  yearBuilt           35389 non-null  int64  \n",
      " 15  streetAddress       35389 non-null  object \n",
      " 16  zipcode             35364 non-null  float64\n",
      " 17  longitude           35389 non-null  float64\n",
      " 18  latitude            35389 non-null  float64\n",
      " 19  hasBadGeocode       35389 non-null  int64  \n",
      " 20  description         35110 non-null  object \n",
      " 21  currency            35389 non-null  object \n",
      " 22  livingArea          35389 non-null  float64\n",
      " 23  livingAreaValue     35389 non-null  float64\n",
      " 24  lotAreaUnits        35389 non-null  object \n",
      " 25  bathrooms           35389 non-null  float64\n",
      " 26  bedrooms            35389 non-null  float64\n",
      " 27  buildingArea        35389 non-null  float64\n",
      " 28  parking             35389 non-null  int64  \n",
      " 29  garageSpaces        35389 non-null  float64\n",
      " 30  hasGarage           35389 non-null  int64  \n",
      " 31  levels              35389 non-null  object \n",
      " 32  pool                35389 non-null  int64  \n",
      " 33  spa                 35389 non-null  int64  \n",
      " 34  isNewConstruction   35389 non-null  int64  \n",
      " 35  hasPetsAllowed      35389 non-null  int64  \n",
      " 36  homeType            35389 non-null  object \n",
      " 37  county              35389 non-null  object \n",
      "dtypes: float64(12), int64(13), object(13)\n",
      "memory usage: 10.5+ MB\n"
     ]
    }
   ],
   "source": [
    "df.info() #Looking at the overall columns/features"
   ]
  },
  {
   "cell_type": "code",
   "execution_count": 4,
   "metadata": {},
   "outputs": [
    {
     "data": {
      "text/plain": [
       "4259"
      ]
     },
     "execution_count": 4,
     "metadata": {},
     "output_type": "execute_result"
    }
   ],
   "source": [
    "df['streetAddress'].duplicated().sum() #Checking for duplicated addresses"
   ]
  },
  {
   "cell_type": "code",
   "execution_count": 6,
   "metadata": {},
   "outputs": [
    {
     "data": {
      "text/plain": [
       "0"
      ]
     },
     "execution_count": 6,
     "metadata": {},
     "output_type": "execute_result"
    }
   ],
   "source": [
    "df.drop_duplicates(['streetAddress'], keep='first', inplace=True) #Dropping duplicate addresses and keeping the first\n",
    "df['streetAddress'].duplicated().sum() #Verifying duplicated values for address have been dropped"
   ]
  },
  {
   "cell_type": "code",
   "execution_count": 7,
   "metadata": {},
   "outputs": [
    {
     "name": "stdout",
     "output_type": "stream",
     "text": [
      "There are 0 duplicated values\n"
     ]
    }
   ],
   "source": [
    "print(f'There are {df.duplicated().sum()} duplicated values') #Checking for any duplicates for all data"
   ]
  },
  {
   "cell_type": "code",
   "execution_count": 8,
   "metadata": {},
   "outputs": [],
   "source": [
    "df.drop(['id', \n",
    "         'stateId', \n",
    "         'country', \n",
    "         'cityId', \n",
    "         'countyId', \n",
    "         'time',  \n",
    "         'state', \n",
    "         'currency'], \n",
    "         axis=1, \n",
    "         inplace=True) \n",
    "#Dropping variables without predictor value or redundant"
   ]
  },
  {
   "cell_type": "code",
   "execution_count": 10,
   "metadata": {},
   "outputs": [
    {
     "data": {
      "text/plain": [
       "datePostedString        3\n",
       "is_bankOwned            0\n",
       "is_forAuction           0\n",
       "event                   0\n",
       "price                   0\n",
       "pricePerSquareFoot      0\n",
       "city                    0\n",
       "yearBuilt               0\n",
       "streetAddress           0\n",
       "zipcode                22\n",
       "longitude               0\n",
       "latitude                0\n",
       "hasBadGeocode           0\n",
       "description           252\n",
       "livingArea              0\n",
       "livingAreaValue         0\n",
       "lotAreaUnits            0\n",
       "bathrooms               0\n",
       "bedrooms                0\n",
       "buildingArea            0\n",
       "parking                 0\n",
       "garageSpaces            0\n",
       "hasGarage               0\n",
       "levels                  0\n",
       "pool                    0\n",
       "spa                     0\n",
       "isNewConstruction       0\n",
       "hasPetsAllowed          0\n",
       "homeType                0\n",
       "county                  0\n",
       "dtype: int64"
      ]
     },
     "execution_count": 10,
     "metadata": {},
     "output_type": "execute_result"
    }
   ],
   "source": [
    "df.isna().sum() #checking for null values"
   ]
  },
  {
   "cell_type": "code",
   "execution_count": 11,
   "metadata": {},
   "outputs": [],
   "source": [
    "df.dropna(inplace=True) #dropping null values since there aren't too many when looking at the overall dataset"
   ]
  },
  {
   "cell_type": "code",
   "execution_count": 12,
   "metadata": {},
   "outputs": [
    {
     "data": {
      "text/plain": [
       "datePostedString      0\n",
       "is_bankOwned          0\n",
       "is_forAuction         0\n",
       "event                 0\n",
       "price                 0\n",
       "pricePerSquareFoot    0\n",
       "city                  0\n",
       "yearBuilt             0\n",
       "streetAddress         0\n",
       "zipcode               0\n",
       "longitude             0\n",
       "latitude              0\n",
       "hasBadGeocode         0\n",
       "description           0\n",
       "livingArea            0\n",
       "livingAreaValue       0\n",
       "lotAreaUnits          0\n",
       "bathrooms             0\n",
       "bedrooms              0\n",
       "buildingArea          0\n",
       "parking               0\n",
       "garageSpaces          0\n",
       "hasGarage             0\n",
       "levels                0\n",
       "pool                  0\n",
       "spa                   0\n",
       "isNewConstruction     0\n",
       "hasPetsAllowed        0\n",
       "homeType              0\n",
       "county                0\n",
       "dtype: int64"
      ]
     },
     "execution_count": 12,
     "metadata": {},
     "output_type": "execute_result"
    }
   ],
   "source": [
    "df.isna().sum() #verifying there's no more nulls"
   ]
  },
  {
   "cell_type": "code",
   "execution_count": 13,
   "metadata": {},
   "outputs": [],
   "source": [
    "df['year'] = pd.to_datetime(df['datePostedString']) #Converting date posted to year to observe yearly trends\n",
    "df['year'] = df['year'].dt.year\n",
    "df.drop(['datePostedString'], inplace=True, axis=1) #Dropping original date posted column"
   ]
  },
  {
   "cell_type": "markdown",
   "metadata": {},
   "source": [
    "### Feature Analysis"
   ]
  },
  {
   "cell_type": "code",
   "execution_count": 14,
   "metadata": {},
   "outputs": [],
   "source": [
    "def feature_corr(feature):\n",
    "    feature_corr = df_single['price'].corr(df_single[feature])\n",
    "    return print(f'{feature.title()} correlation with popularity is {feature_corr}')\n",
    "\n",
    "def feature_analysis(feature):\n",
    "    '''Creates distplot and graph of feature and mean of price along with correlation and value counts'''\n",
    "    \n",
    "    feature_corr(feature)\n",
    "    \n",
    "    print(df_single[feature].value_counts(normalize=True))\n",
    "    \n",
    "    fig, ax = plt.subplots(figsize=(15,8))\n",
    "    sns.distplot(df_single[feature], ax=ax)\n",
    "    ax.set_title(f'{feature.title()} Distribution', fontsize=16)\n",
    "    ax.set_xlabel(f'{feature.title()}', fontsize=14)\n",
    "    ax.set_ylabel('Density', fontsize=14)\n",
    "    \n",
    "    print(df_single[feature].describe())\n",
    "    \n",
    "    feature_price_mean = df_single.groupby(feature)['price'].mean()\n",
    "    \n",
    "    fig, ax = plt.subplots(figsize=(15,8))\n",
    "    ax.scatter(feature_price_mean.index, feature_price_mean.values, alpha=.3)\n",
    "    ax.set_title(f'{feature.title()} vs Mean Price', fontsize=16)\n",
    "    ax.set_xlabel(f'{feature.title()}', fontsize=14)\n",
    "    ax.set_ylabel('Mean Price', fontsize=14)\n",
    "    return plt.show();"
   ]
  },
  {
   "cell_type": "markdown",
   "metadata": {},
   "source": [
    "## Single Family Home Analysis"
   ]
  },
  {
   "cell_type": "code",
   "execution_count": 15,
   "metadata": {},
   "outputs": [
    {
     "data": {
      "text/plain": [
       "SINGLE_FAMILY    19400\n",
       "LOT               5554\n",
       "CONDO             2831\n",
       "MULTI_FAMILY      2104\n",
       "TOWNHOUSE          963\n",
       "APARTMENT            1\n",
       "Name: homeType, dtype: int64"
      ]
     },
     "execution_count": 15,
     "metadata": {},
     "output_type": "execute_result"
    }
   ],
   "source": [
    "df['homeType'].value_counts()"
   ]
  },
  {
   "cell_type": "code",
   "execution_count": 16,
   "metadata": {},
   "outputs": [
    {
     "data": {
      "text/plain": [
       "SINGLE_FAMILY    19400\n",
       "Name: homeType, dtype: int64"
      ]
     },
     "execution_count": 16,
     "metadata": {},
     "output_type": "execute_result"
    }
   ],
   "source": [
    "df_single = df[df['homeType'] == 'SINGLE_FAMILY'] #Filtering out the data for single family homes only\n",
    "df_single['homeType'].value_counts()"
   ]
  },
  {
   "cell_type": "markdown",
   "metadata": {},
   "source": [
    "#### Bank Owned"
   ]
  },
  {
   "cell_type": "code",
   "execution_count": 17,
   "metadata": {},
   "outputs": [
    {
     "data": {
      "text/plain": [
       "0    0.999845\n",
       "1    0.000155\n",
       "Name: is_bankOwned, dtype: float64"
      ]
     },
     "execution_count": 17,
     "metadata": {},
     "output_type": "execute_result"
    }
   ],
   "source": [
    "df_single['is_bankOwned'].value_counts(normalize=True) #Seeing how many homes are bank owned"
   ]
  },
  {
   "cell_type": "code",
   "execution_count": 20,
   "metadata": {
    "scrolled": false
   },
   "outputs": [
    {
     "name": "stdout",
     "output_type": "stream",
     "text": [
      "Is_Bankowned correlation with popularity is nan\n",
      "0    1.0\n",
      "Name: is_bankOwned, dtype: float64\n",
      "count    19397.0\n",
      "mean         0.0\n",
      "std          0.0\n",
      "min          0.0\n",
      "25%          0.0\n",
      "50%          0.0\n",
      "75%          0.0\n",
      "max          0.0\n",
      "Name: is_bankOwned, dtype: float64\n"
     ]
    },
    {
     "name": "stderr",
     "output_type": "stream",
     "text": [
      "C:\\Users\\erinv\\anaconda3\\envs\\learn-env\\lib\\site-packages\\seaborn\\distributions.py:2551: FutureWarning: `distplot` is a deprecated function and will be removed in a future version. Please adapt your code to use either `displot` (a figure-level function with similar flexibility) or `histplot` (an axes-level function for histograms).\n",
      "  warnings.warn(msg, FutureWarning)\n",
      "C:\\Users\\erinv\\anaconda3\\envs\\learn-env\\lib\\site-packages\\seaborn\\distributions.py:305: UserWarning: Dataset has 0 variance; skipping density estimate.\n",
      "  warnings.warn(msg, UserWarning)\n"
     ]
    },
    {
     "data": {
      "image/png": "[encoded data removed]",
      "text/plain": [
       "<Figure size 1080x576 with 1 Axes>"
      ]
     },
     "metadata": {
      "needs_background": "light"
     },
     "output_type": "display_data"
    },
    {
     "data": {
      "image/png": "[encoded data removed]",
      "text/plain": [
       "<Figure size 1080x576 with 1 Axes>"
      ]
     },
     "metadata": {
      "needs_background": "light"
     },
     "output_type": "display_data"
    }
   ],
   "source": [
    "feature_analysis('is_bankOwned')"
   ]
  },
  {
   "cell_type": "code",
   "execution_count": 21,
   "metadata": {},
   "outputs": [
    {
     "data": {
      "text/plain": [
       "0    19397\n",
       "Name: is_bankOwned, dtype: int64"
      ]
     },
     "execution_count": 21,
     "metadata": {},
     "output_type": "execute_result"
    }
   ],
   "source": [
    "df_single = df_single[df_single['is_bankOwned'] == 0] #Filtering out houses that are bank owned\n",
    "df_single['is_bankOwned'].value_counts() #Verifying no more bank owned homes"
   ]
  },
  {
   "cell_type": "code",
   "execution_count": 22,
   "metadata": {},
   "outputs": [],
   "source": [
    "df_single.drop('is_bankOwned', axis=1, inplace=True)  #Dropping the column since they're all non bank owned properties"
   ]
  },
  {
   "cell_type": "markdown",
   "metadata": {},
   "source": [
    "#### Auction"
   ]
  },
  {
   "cell_type": "code",
   "execution_count": 23,
   "metadata": {},
   "outputs": [
    {
     "data": {
      "text/plain": [
       "0    0.999227\n",
       "1    0.000773\n",
       "Name: is_forAuction, dtype: float64"
      ]
     },
     "execution_count": 23,
     "metadata": {},
     "output_type": "execute_result"
    }
   ],
   "source": [
    "df_single['is_forAuction'].value_counts(normalize=True) #Seeing how many homes are for auction"
   ]
  },
  {
   "cell_type": "code",
   "execution_count": 24,
   "metadata": {},
   "outputs": [
    {
     "name": "stdout",
     "output_type": "stream",
     "text": [
      "Is_Forauction correlation with popularity is 0.022486673473050472\n",
      "0    0.999227\n",
      "1    0.000773\n",
      "Name: is_forAuction, dtype: float64\n"
     ]
    },
    {
     "name": "stderr",
     "output_type": "stream",
     "text": [
      "C:\\Users\\erinv\\anaconda3\\envs\\learn-env\\lib\\site-packages\\seaborn\\distributions.py:2551: FutureWarning: `distplot` is a deprecated function and will be removed in a future version. Please adapt your code to use either `displot` (a figure-level function with similar flexibility) or `histplot` (an axes-level function for histograms).\n",
      "  warnings.warn(msg, FutureWarning)\n"
     ]
    },
    {
     "name": "stdout",
     "output_type": "stream",
     "text": [
      "count    19397.000000\n",
      "mean         0.000773\n",
      "std          0.027799\n",
      "min          0.000000\n",
      "25%          0.000000\n",
      "50%          0.000000\n",
      "75%          0.000000\n",
      "max          1.000000\n",
      "Name: is_forAuction, dtype: float64\n"
     ]
    },
    {
     "data": {
      "image/png": "[encoded data removed]",
      "text/plain": [
       "<Figure size 1080x576 with 1 Axes>"
      ]
     },
     "metadata": {
      "needs_background": "light"
     },
     "output_type": "display_data"
    },
    {
     "data": {
      "image/png": "[encoded data removed]",
      "text/plain": [
       "<Figure size 1080x576 with 1 Axes>"
      ]
     },
     "metadata": {
      "needs_background": "light"
     },
     "output_type": "display_data"
    }
   ],
   "source": [
    "feature_analysis('is_forAuction')"
   ]
  },
  {
   "cell_type": "code",
   "execution_count": 25,
   "metadata": {},
   "outputs": [
    {
     "data": {
      "text/plain": [
       "0    19382\n",
       "Name: is_forAuction, dtype: int64"
      ]
     },
     "execution_count": 25,
     "metadata": {},
     "output_type": "execute_result"
    }
   ],
   "source": [
    "df_single = df_single[df_single['is_forAuction'] == 0] #Filtering out homes for auction\n",
    "df_single['is_forAuction'].value_counts() #Verifying no more homes for auction"
   ]
  },
  {
   "cell_type": "code",
   "execution_count": 26,
   "metadata": {},
   "outputs": [],
   "source": [
    "df_single.drop('is_forAuction', axis=1, inplace=True) #Dropping the column since no homes are for auction"
   ]
  },
  {
   "cell_type": "markdown",
   "metadata": {},
   "source": [
    "#### Event"
   ]
  },
  {
   "cell_type": "code",
   "execution_count": 27,
   "metadata": {},
   "outputs": [
    {
     "data": {
      "text/plain": [
       "Listed for sale    13950\n",
       "Price change        2910\n",
       "Listing removed     1660\n",
       "Sold                 695\n",
       "None                 165\n",
       "Pending sale           1\n",
       "Listed for rent        1\n",
       "Name: event, dtype: int64"
      ]
     },
     "execution_count": 27,
     "metadata": {},
     "output_type": "execute_result"
    }
   ],
   "source": [
    "df_single['event'].value_counts()"
   ]
  },
  {
   "cell_type": "code",
   "execution_count": 28,
   "metadata": {},
   "outputs": [],
   "source": [
    "df_single.drop(['event'], axis=1, inplace=True) #Dropping the event column since we'll be looking at all the houses"
   ]
  },
  {
   "cell_type": "markdown",
   "metadata": {},
   "source": [
    "#### Bathrooms"
   ]
  },
  {
   "cell_type": "code",
   "execution_count": 30,
   "metadata": {},
   "outputs": [
    {
     "data": {
      "text/plain": [
       "2.0     7508\n",
       "3.0     5917\n",
       "1.0     2319\n",
       "4.0     1746\n",
       "5.0      830\n",
       "6.0      380\n",
       "0.0      246\n",
       "7.0      188\n",
       "8.0      119\n",
       "9.0       52\n",
       "10.0      27\n",
       "11.0      19\n",
       "12.0      14\n",
       "14.0       6\n",
       "13.0       5\n",
       "15.0       1\n",
       "25.0       1\n",
       "20.0       1\n",
       "58.0       1\n",
       "21.0       1\n",
       "22.0       1\n",
       "Name: bathrooms, dtype: int64"
      ]
     },
     "execution_count": 30,
     "metadata": {},
     "output_type": "execute_result"
    }
   ],
   "source": [
    "df_single['bathrooms'].value_counts()"
   ]
  },
  {
   "cell_type": "code",
   "execution_count": 31,
   "metadata": {},
   "outputs": [
    {
     "data": {
      "text/plain": [
       "bathrooms\n",
       "25.0    8.500000e+07\n",
       "21.0    7.800000e+07\n",
       "22.0    6.500000e+07\n",
       "20.0    4.800000e+07\n",
       "58.0    2.900000e+07\n",
       "13.0    2.870900e+07\n",
       "12.0    2.461636e+07\n",
       "14.0    2.083300e+07\n",
       "11.0    1.981579e+07\n",
       "10.0    1.428259e+07\n",
       "9.0     1.196734e+07\n",
       "8.0     8.727528e+06\n",
       "7.0     7.074280e+06\n",
       "6.0     4.388978e+06\n",
       "15.0    3.895000e+06\n",
       "5.0     3.079481e+06\n",
       "4.0     1.899812e+06\n",
       "0.0     1.415886e+06\n",
       "3.0     1.092848e+06\n",
       "2.0     7.511688e+05\n",
       "1.0     5.967947e+05\n",
       "Name: price, dtype: float64"
      ]
     },
     "execution_count": 31,
     "metadata": {},
     "output_type": "execute_result"
    }
   ],
   "source": [
    "avg_price_bath_single = df_single.groupby('bathrooms')['price'].mean().sort_values(ascending=False)\n",
    "avg_price_bath_single"
   ]
  },
  {
   "cell_type": "code",
   "execution_count": 32,
   "metadata": {},
   "outputs": [
    {
     "name": "stdout",
     "output_type": "stream",
     "text": [
      "Bathrooms correlation with popularity is 0.5594385580496497\n",
      "2.0     0.387370\n",
      "3.0     0.305283\n",
      "1.0     0.119647\n",
      "4.0     0.090084\n",
      "5.0     0.042823\n",
      "6.0     0.019606\n",
      "0.0     0.012692\n",
      "7.0     0.009700\n",
      "8.0     0.006140\n",
      "9.0     0.002683\n",
      "10.0    0.001393\n",
      "11.0    0.000980\n",
      "12.0    0.000722\n",
      "14.0    0.000310\n",
      "13.0    0.000258\n",
      "15.0    0.000052\n",
      "25.0    0.000052\n",
      "20.0    0.000052\n",
      "58.0    0.000052\n",
      "21.0    0.000052\n",
      "22.0    0.000052\n",
      "Name: bathrooms, dtype: float64\n",
      "count    19382.000000\n",
      "mean         2.692859\n",
      "std          1.490153\n",
      "min          0.000000\n",
      "25%          2.000000\n",
      "50%          2.000000\n",
      "75%          3.000000\n",
      "max         58.000000\n",
      "Name: bathrooms, dtype: float64\n"
     ]
    },
    {
     "name": "stderr",
     "output_type": "stream",
     "text": [
      "C:\\Users\\erinv\\anaconda3\\envs\\learn-env\\lib\\site-packages\\seaborn\\distributions.py:2551: FutureWarning: `distplot` is a deprecated function and will be removed in a future version. Please adapt your code to use either `displot` (a figure-level function with similar flexibility) or `histplot` (an axes-level function for histograms).\n",
      "  warnings.warn(msg, FutureWarning)\n"
     ]
    },
    {
     "data": {
      "image/png": "[encoded data removed]",
      "text/plain": [
       "<Figure size 1080x576 with 1 Axes>"
      ]
     },
     "metadata": {
      "needs_background": "light"
     },
     "output_type": "display_data"
    },
    {
     "data": {
      "image/png": "[encoded data removed]",
      "text/plain": [
       "<Figure size 1080x576 with 1 Axes>"
      ]
     },
     "metadata": {
      "needs_background": "light"
     },
     "output_type": "display_data"
    }
   ],
   "source": [
    "feature_analysis('bathrooms')"
   ]
  },
  {
   "cell_type": "code",
   "execution_count": 33,
   "metadata": {},
   "outputs": [
    {
     "data": {
      "text/plain": [
       "2.0    7508\n",
       "3.0    5917\n",
       "1.0    2319\n",
       "4.0    1746\n",
       "5.0     830\n",
       "6.0     380\n",
       "Name: bathrooms, dtype: int64"
      ]
     },
     "execution_count": 33,
     "metadata": {},
     "output_type": "execute_result"
    }
   ],
   "source": [
    "df_single = df_single[(df_single['bathrooms'] < 7) & (df_single['bathrooms'] != 0)] #Filtering out homes without bathrooms and more than 7 for the standard home \n",
    "df_single['bathrooms'].value_counts()"
   ]
  },
  {
   "cell_type": "code",
   "execution_count": 34,
   "metadata": {},
   "outputs": [
    {
     "name": "stdout",
     "output_type": "stream",
     "text": [
      "Bathrooms correlation with popularity is 0.46621641003959335\n",
      "2.0    0.401497\n",
      "3.0    0.316417\n",
      "1.0    0.124011\n",
      "4.0    0.093369\n",
      "5.0    0.044385\n",
      "6.0    0.020321\n",
      "Name: bathrooms, dtype: float64\n",
      "count    18700.000000\n",
      "mean         2.593583\n",
      "std          1.089140\n",
      "min          1.000000\n",
      "25%          2.000000\n",
      "50%          2.000000\n",
      "75%          3.000000\n",
      "max          6.000000\n",
      "Name: bathrooms, dtype: float64\n"
     ]
    },
    {
     "name": "stderr",
     "output_type": "stream",
     "text": [
      "C:\\Users\\erinv\\anaconda3\\envs\\learn-env\\lib\\site-packages\\seaborn\\distributions.py:2551: FutureWarning: `distplot` is a deprecated function and will be removed in a future version. Please adapt your code to use either `displot` (a figure-level function with similar flexibility) or `histplot` (an axes-level function for histograms).\n",
      "  warnings.warn(msg, FutureWarning)\n"
     ]
    },
    {
     "data": {
      "image/png": "[encoded data removed]",
      "text/plain": [
       "<Figure size 1080x576 with 1 Axes>"
      ]
     },
     "metadata": {
      "needs_background": "light"
     },
     "output_type": "display_data"
    },
    {
     "data": {
      "image/png": "[encoded data removed]",
      "text/plain": [
       "<Figure size 1080x576 with 1 Axes>"
      ]
     },
     "metadata": {
      "needs_background": "light"
     },
     "output_type": "display_data"
    }
   ],
   "source": [
    "feature_analysis('bathrooms')"
   ]
  },
  {
   "cell_type": "markdown",
   "metadata": {},
   "source": [
    "#### Bedrooms"
   ]
  },
  {
   "cell_type": "code",
   "execution_count": 35,
   "metadata": {},
   "outputs": [
    {
     "data": {
      "text/plain": [
       "3.0     0.420107\n",
       "4.0     0.313636\n",
       "2.0     0.122086\n",
       "5.0     0.103262\n",
       "6.0     0.019091\n",
       "1.0     0.013369\n",
       "7.0     0.004385\n",
       "8.0     0.002032\n",
       "0.0     0.001016\n",
       "9.0     0.000588\n",
       "11.0    0.000160\n",
       "10.0    0.000107\n",
       "12.0    0.000107\n",
       "32.0    0.000053\n",
       "Name: bedrooms, dtype: float64"
      ]
     },
     "execution_count": 35,
     "metadata": {},
     "output_type": "execute_result"
    }
   ],
   "source": [
    "df_single['bedrooms'].value_counts(normalize=True)"
   ]
  },
  {
   "cell_type": "code",
   "execution_count": 36,
   "metadata": {},
   "outputs": [
    {
     "data": {
      "text/plain": [
       "bedrooms\n",
       "32.0    7.500000e+06\n",
       "10.0    2.772500e+06\n",
       "7.0     2.454135e+06\n",
       "9.0     2.340681e+06\n",
       "6.0     2.119226e+06\n",
       "11.0    2.066333e+06\n",
       "5.0     1.894839e+06\n",
       "8.0     1.599076e+06\n",
       "4.0     1.290027e+06\n",
       "12.0    1.124000e+06\n",
       "3.0     8.820811e+05\n",
       "1.0     7.448648e+05\n",
       "2.0     7.064301e+05\n",
       "0.0     6.106152e+05\n",
       "Name: price, dtype: float64"
      ]
     },
     "execution_count": 36,
     "metadata": {},
     "output_type": "execute_result"
    }
   ],
   "source": [
    "avg_price_bed_single = df_single.groupby('bedrooms')['price'].mean().sort_values(ascending=False)\n",
    "avg_price_bed_single"
   ]
  },
  {
   "cell_type": "code",
   "execution_count": 37,
   "metadata": {},
   "outputs": [
    {
     "name": "stdout",
     "output_type": "stream",
     "text": [
      "Bedrooms correlation with popularity is 0.25254638739403384\n",
      "3.0     0.420107\n",
      "4.0     0.313636\n",
      "2.0     0.122086\n",
      "5.0     0.103262\n",
      "6.0     0.019091\n",
      "1.0     0.013369\n",
      "7.0     0.004385\n",
      "8.0     0.002032\n",
      "0.0     0.001016\n",
      "9.0     0.000588\n",
      "11.0    0.000160\n",
      "10.0    0.000107\n",
      "12.0    0.000107\n",
      "32.0    0.000053\n",
      "Name: bedrooms, dtype: float64\n",
      "count    18700.000000\n",
      "mean         3.461337\n",
      "std          1.040057\n",
      "min          0.000000\n",
      "25%          3.000000\n",
      "50%          3.000000\n",
      "75%          4.000000\n",
      "max         32.000000\n",
      "Name: bedrooms, dtype: float64\n"
     ]
    },
    {
     "name": "stderr",
     "output_type": "stream",
     "text": [
      "C:\\Users\\erinv\\anaconda3\\envs\\learn-env\\lib\\site-packages\\seaborn\\distributions.py:2551: FutureWarning: `distplot` is a deprecated function and will be removed in a future version. Please adapt your code to use either `displot` (a figure-level function with similar flexibility) or `histplot` (an axes-level function for histograms).\n",
      "  warnings.warn(msg, FutureWarning)\n"
     ]
    },
    {
     "data": {
      "image/png": "[encoded data removed]",
      "text/plain": [
       "<Figure size 1080x576 with 1 Axes>"
      ]
     },
     "metadata": {
      "needs_background": "light"
     },
     "output_type": "display_data"
    },
    {
     "data": {
      "image/png": "[encoded data removed]",
      "text/plain": [
       "<Figure size 1080x576 with 1 Axes>"
      ]
     },
     "metadata": {
      "needs_background": "light"
     },
     "output_type": "display_data"
    }
   ],
   "source": [
    "feature_analysis('bedrooms')"
   ]
  },
  {
   "cell_type": "code",
   "execution_count": 38,
   "metadata": {},
   "outputs": [
    {
     "data": {
      "text/plain": [
       "3.0    7856\n",
       "4.0    5865\n",
       "2.0    2283\n",
       "5.0    1931\n",
       "6.0     357\n",
       "1.0     250\n",
       "7.0      82\n",
       "0.0      19\n",
       "Name: bedrooms, dtype: int64"
      ]
     },
     "execution_count": 38,
     "metadata": {},
     "output_type": "execute_result"
    }
   ],
   "source": [
    "df_single = df_single[df_single['bedrooms'] <= 7] #Filtering out houses with more than 7 bedrooms for a standard home\n",
    "df_single['bedrooms'].value_counts()"
   ]
  },
  {
   "cell_type": "code",
   "execution_count": 39,
   "metadata": {},
   "outputs": [
    {
     "name": "stdout",
     "output_type": "stream",
     "text": [
      "Bedrooms correlation with popularity is 0.2546324140498865\n",
      "3.0    0.421391\n",
      "4.0    0.314595\n",
      "2.0    0.122459\n",
      "5.0    0.103578\n",
      "6.0    0.019149\n",
      "1.0    0.013410\n",
      "7.0    0.004398\n",
      "0.0    0.001019\n",
      "Name: bedrooms, dtype: float64\n",
      "count    18643.000000\n",
      "mean         3.444456\n",
      "std          0.979492\n",
      "min          0.000000\n",
      "25%          3.000000\n",
      "50%          3.000000\n",
      "75%          4.000000\n",
      "max          7.000000\n",
      "Name: bedrooms, dtype: float64\n"
     ]
    },
    {
     "name": "stderr",
     "output_type": "stream",
     "text": [
      "C:\\Users\\erinv\\anaconda3\\envs\\learn-env\\lib\\site-packages\\seaborn\\distributions.py:2551: FutureWarning: `distplot` is a deprecated function and will be removed in a future version. Please adapt your code to use either `displot` (a figure-level function with similar flexibility) or `histplot` (an axes-level function for histograms).\n",
      "  warnings.warn(msg, FutureWarning)\n"
     ]
    },
    {
     "data": {
      "image/png": "[encoded data removed]",
      "text/plain": [
       "<Figure size 1080x576 with 1 Axes>"
      ]
     },
     "metadata": {
      "needs_background": "light"
     },
     "output_type": "display_data"
    },
    {
     "data": {
      "image/png": "[encoded data removed]",
      "text/plain": [
       "<Figure size 1080x576 with 1 Axes>"
      ]
     },
     "metadata": {
      "needs_background": "light"
     },
     "output_type": "display_data"
    }
   ],
   "source": [
    "feature_analysis('bedrooms')"
   ]
  },
  {
   "cell_type": "code",
   "execution_count": 40,
   "metadata": {},
   "outputs": [
    {
     "data": {
      "text/html": [
       "<div>\n",
       "<style scoped>\n",
       "    .dataframe tbody tr th:only-of-type {\n",
       "        vertical-align: middle;\n",
       "    }\n",
       "\n",
       "    .dataframe tbody tr th {\n",
       "        vertical-align: top;\n",
       "    }\n",
       "\n",
       "    .dataframe thead th {\n",
       "        text-align: right;\n",
       "    }\n",
       "</style>\n",
       "<table border=\"1\" class=\"dataframe\">\n",
       "  <thead>\n",
       "    <tr style=\"text-align: right;\">\n",
       "      <th></th>\n",
       "      <th>price</th>\n",
       "      <th>pricePerSquareFoot</th>\n",
       "      <th>city</th>\n",
       "      <th>yearBuilt</th>\n",
       "      <th>streetAddress</th>\n",
       "      <th>zipcode</th>\n",
       "      <th>longitude</th>\n",
       "      <th>latitude</th>\n",
       "      <th>hasBadGeocode</th>\n",
       "      <th>description</th>\n",
       "      <th>...</th>\n",
       "      <th>garageSpaces</th>\n",
       "      <th>hasGarage</th>\n",
       "      <th>levels</th>\n",
       "      <th>pool</th>\n",
       "      <th>spa</th>\n",
       "      <th>isNewConstruction</th>\n",
       "      <th>hasPetsAllowed</th>\n",
       "      <th>homeType</th>\n",
       "      <th>county</th>\n",
       "      <th>year</th>\n",
       "    </tr>\n",
       "  </thead>\n",
       "  <tbody>\n",
       "    <tr>\n",
       "      <th>9061</th>\n",
       "      <td>1549888.0</td>\n",
       "      <td>1458.0</td>\n",
       "      <td>Sunnyvale</td>\n",
       "      <td>1926</td>\n",
       "      <td>421 S Sunnyvale Ave</td>\n",
       "      <td>94086.0</td>\n",
       "      <td>-122.030930</td>\n",
       "      <td>37.372089</td>\n",
       "      <td>0</td>\n",
       "      <td>Value is the land. Located in the heart of dow...</td>\n",
       "      <td>...</td>\n",
       "      <td>0.0</td>\n",
       "      <td>0</td>\n",
       "      <td>0</td>\n",
       "      <td>0</td>\n",
       "      <td>0</td>\n",
       "      <td>0</td>\n",
       "      <td>0</td>\n",
       "      <td>SINGLE_FAMILY</td>\n",
       "      <td>Santa Clara County</td>\n",
       "      <td>2021</td>\n",
       "    </tr>\n",
       "    <tr>\n",
       "      <th>10470</th>\n",
       "      <td>1400000.0</td>\n",
       "      <td>373.0</td>\n",
       "      <td>El Sobrante</td>\n",
       "      <td>1949</td>\n",
       "      <td>4022 San Pablo Dam Rd</td>\n",
       "      <td>94803.0</td>\n",
       "      <td>-122.310883</td>\n",
       "      <td>37.965401</td>\n",
       "      <td>0</td>\n",
       "      <td>Great El Sobrante investment property 3 commer...</td>\n",
       "      <td>...</td>\n",
       "      <td>0.0</td>\n",
       "      <td>1</td>\n",
       "      <td>0</td>\n",
       "      <td>0</td>\n",
       "      <td>0</td>\n",
       "      <td>0</td>\n",
       "      <td>0</td>\n",
       "      <td>SINGLE_FAMILY</td>\n",
       "      <td>Contra Costa County</td>\n",
       "      <td>2021</td>\n",
       "    </tr>\n",
       "    <tr>\n",
       "      <th>14739</th>\n",
       "      <td>1395000.0</td>\n",
       "      <td>372.0</td>\n",
       "      <td>Seaside</td>\n",
       "      <td>1972</td>\n",
       "      <td>751 Dias St</td>\n",
       "      <td>93955.0</td>\n",
       "      <td>-121.848015</td>\n",
       "      <td>36.613480</td>\n",
       "      <td>0</td>\n",
       "      <td>Sand City-   2 unit building 749 and 751 Dias ...</td>\n",
       "      <td>...</td>\n",
       "      <td>0.0</td>\n",
       "      <td>0</td>\n",
       "      <td>0</td>\n",
       "      <td>0</td>\n",
       "      <td>0</td>\n",
       "      <td>0</td>\n",
       "      <td>0</td>\n",
       "      <td>SINGLE_FAMILY</td>\n",
       "      <td>Monterey County</td>\n",
       "      <td>2021</td>\n",
       "    </tr>\n",
       "    <tr>\n",
       "      <th>16065</th>\n",
       "      <td>1200000.0</td>\n",
       "      <td>316.0</td>\n",
       "      <td>Angels Camp</td>\n",
       "      <td>1900</td>\n",
       "      <td>1177 S Main St</td>\n",
       "      <td>95222.0</td>\n",
       "      <td>-120.540512</td>\n",
       "      <td>38.070133</td>\n",
       "      <td>0</td>\n",
       "      <td>This stunning double store front rhyolite buil...</td>\n",
       "      <td>...</td>\n",
       "      <td>0.0</td>\n",
       "      <td>0</td>\n",
       "      <td>0</td>\n",
       "      <td>0</td>\n",
       "      <td>0</td>\n",
       "      <td>0</td>\n",
       "      <td>0</td>\n",
       "      <td>SINGLE_FAMILY</td>\n",
       "      <td>Calaveras County</td>\n",
       "      <td>2021</td>\n",
       "    </tr>\n",
       "  </tbody>\n",
       "</table>\n",
       "<p>4 rows × 27 columns</p>\n",
       "</div>"
      ],
      "text/plain": [
       "           price  pricePerSquareFoot         city  yearBuilt  \\\n",
       "9061   1549888.0              1458.0    Sunnyvale       1926   \n",
       "10470  1400000.0               373.0  El Sobrante       1949   \n",
       "14739  1395000.0               372.0      Seaside       1972   \n",
       "16065  1200000.0               316.0  Angels Camp       1900   \n",
       "\n",
       "               streetAddress  zipcode   longitude   latitude  hasBadGeocode  \\\n",
       "9061     421 S Sunnyvale Ave  94086.0 -122.030930  37.372089              0   \n",
       "10470  4022 San Pablo Dam Rd  94803.0 -122.310883  37.965401              0   \n",
       "14739            751 Dias St  93955.0 -121.848015  36.613480              0   \n",
       "16065         1177 S Main St  95222.0 -120.540512  38.070133              0   \n",
       "\n",
       "                                             description  ...  garageSpaces  \\\n",
       "9061   Value is the land. Located in the heart of dow...  ...           0.0   \n",
       "10470  Great El Sobrante investment property 3 commer...  ...           0.0   \n",
       "14739  Sand City-   2 unit building 749 and 751 Dias ...  ...           0.0   \n",
       "16065  This stunning double store front rhyolite buil...  ...           0.0   \n",
       "\n",
       "       hasGarage levels  pool  spa  isNewConstruction  hasPetsAllowed  \\\n",
       "9061           0      0     0    0                  0               0   \n",
       "10470          1      0     0    0                  0               0   \n",
       "14739          0      0     0    0                  0               0   \n",
       "16065          0      0     0    0                  0               0   \n",
       "\n",
       "            homeType               county  year  \n",
       "9061   SINGLE_FAMILY   Santa Clara County  2021  \n",
       "10470  SINGLE_FAMILY  Contra Costa County  2021  \n",
       "14739  SINGLE_FAMILY      Monterey County  2021  \n",
       "16065  SINGLE_FAMILY     Calaveras County  2021  \n",
       "\n",
       "[4 rows x 27 columns]"
      ]
     },
     "execution_count": 40,
     "metadata": {},
     "output_type": "execute_result"
    }
   ],
   "source": [
    "bedroom_outliers = df_single[(df_single['bedrooms'] == 0) & (df_single['price'] > 1000000)]\n",
    "bedroom_outliers"
   ]
  },
  {
   "cell_type": "code",
   "execution_count": null,
   "metadata": {},
   "outputs": [],
   "source": []
  },
  {
   "cell_type": "code",
   "execution_count": null,
   "metadata": {},
   "outputs": [],
   "source": []
  },
  {
   "cell_type": "code",
   "execution_count": null,
   "metadata": {},
   "outputs": [],
   "source": []
  },
  {
   "cell_type": "code",
   "execution_count": null,
   "metadata": {},
   "outputs": [],
   "source": []
  },
  {
   "cell_type": "code",
   "execution_count": null,
   "metadata": {},
   "outputs": [],
   "source": []
  },
  {
   "cell_type": "code",
   "execution_count": null,
   "metadata": {},
   "outputs": [],
   "source": []
  },
  {
   "cell_type": "code",
   "execution_count": null,
   "metadata": {},
   "outputs": [],
   "source": []
  },
  {
   "cell_type": "code",
   "execution_count": null,
   "metadata": {},
   "outputs": [],
   "source": []
  },
  {
   "cell_type": "code",
   "execution_count": null,
   "metadata": {},
   "outputs": [],
   "source": []
  },
  {
   "cell_type": "code",
   "execution_count": null,
   "metadata": {},
   "outputs": [],
   "source": []
  },
  {
   "cell_type": "code",
   "execution_count": null,
   "metadata": {},
   "outputs": [],
   "source": []
  },
  {
   "cell_type": "markdown",
   "metadata": {},
   "source": [
    "#### Target: Popularity Analysis"
   ]
  },
  {
   "cell_type": "code",
   "execution_count": null,
   "metadata": {},
   "outputs": [],
   "source": [
    "df['price'].describe()"
   ]
  },
  {
   "cell_type": "code",
   "execution_count": null,
   "metadata": {},
   "outputs": [],
   "source": [
    "df['price'].value_counts(bins=8)"
   ]
  },
  {
   "cell_type": "code",
   "execution_count": null,
   "metadata": {},
   "outputs": [],
   "source": [
    "df['price'].max()"
   ]
  },
  {
   "cell_type": "code",
   "execution_count": null,
   "metadata": {},
   "outputs": [],
   "source": [
    "fig, ax = plt.subplots(figsize=(15, 8))\n",
    "ax.hist(df['price'], bins=50);"
   ]
  },
  {
   "cell_type": "code",
   "execution_count": null,
   "metadata": {},
   "outputs": [],
   "source": [
    "#Boxplot with outliers\n",
    "fig, ax = plt.subplots(figsize=(15, 8))\n",
    "sns.boxplot(x=df['price'], showmeans=True, meanline=True);"
   ]
  },
  {
   "cell_type": "code",
   "execution_count": null,
   "metadata": {},
   "outputs": [],
   "source": [
    "#Boxplot without outliers\n",
    "fig, ax = plt.subplots(figsize=(15, 8))\n",
    "sns.boxplot(x=df['price'], showfliers=False);"
   ]
  },
  {
   "cell_type": "code",
   "execution_count": null,
   "metadata": {},
   "outputs": [],
   "source": [
    "sns.displot(df['price'], height=7, aspect=2);"
   ]
  },
  {
   "cell_type": "code",
   "execution_count": null,
   "metadata": {},
   "outputs": [],
   "source": [
    "pop_corr = abs(df.corr()[['price']]).sort_values('price', ascending=False) #Correlation analysis against price\n",
    "pop_corr"
   ]
  },
  {
   "cell_type": "code",
   "execution_count": null,
   "metadata": {},
   "outputs": [],
   "source": [
    "fig, ax = plt.subplots(figsize=(15, 8))\n",
    "sns.heatmap(pop_corr, ax=ax, annot=True)\n",
    "ax.set_yticklabels(labels=pop_corr.index, fontsize=12);"
   ]
  },
  {
   "cell_type": "markdown",
   "metadata": {},
   "source": [
    "### Feature Exploration"
   ]
  },
  {
   "cell_type": "code",
   "execution_count": null,
   "metadata": {},
   "outputs": [],
   "source": []
  }
 ],
 "metadata": {
  "kernelspec": {
   "display_name": "Python (learn-env)",
   "language": "python",
   "name": "learn-env"
  },
  "language_info": {
   "codemirror_mode": {
    "name": "ipython",
    "version": 3
   },
   "file_extension": ".py",
   "mimetype": "text/x-python",
   "name": "python",
   "nbconvert_exporter": "python",
   "pygments_lexer": "ipython3",
   "version": "3.8.5"
  }
 },
 "nbformat": 4,
 "nbformat_minor": 4
}
